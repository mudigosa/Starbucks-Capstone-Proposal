{
 "cells": [
  {
   "cell_type": "markdown",
   "metadata": {},
   "source": [
    "# Starbucks Capstone Challenge\n",
    "\n",
    "### Introduction\n",
    "\n",
    "This data set contains simulated data that mimics customer behavior on the Starbucks rewards mobile app. Once every few days, Starbucks sends out an offer to users of the mobile app. An offer can be merely an advertisement for a drink or an actual offer such as a discount or BOGO (buy one get one free). Some users might not receive any offer during certain weeks. \n",
    "\n",
    "Not all users receive the same offer, and that is the challenge to solve with this data set.\n",
    "\n",
    "Your task is to combine transaction, demographic and offer data to determine which demographic groups respond best to which offer type. This data set is a simplified version of the real Starbucks app because the underlying simulator only has one product whereas Starbucks actually sells dozens of products.\n",
    "\n",
    "Every offer has a validity period before the offer expires. As an example, a BOGO offer might be valid for only 5 days. You'll see in the data set that informational offers have a validity period even though these ads are merely providing information about a product; for example, if an informational offer has 7 days of validity, you can assume the customer is feeling the influence of the offer for 7 days after receiving the advertisement.\n",
    "\n",
    "You'll be given transactional data showing user purchases made on the app including the timestamp of purchase and the amount of money spent on a purchase. This transactional data also has a record for each offer that a user receives as well as a record for when a user actually views the offer. There are also records for when a user completes an offer. \n",
    "\n",
    "Keep in mind as well that someone using the app might make a purchase through the app without having received an offer or seen an offer.\n",
    "\n",
    "### Example\n",
    "\n",
    "To give an example, a user could receive a discount offer buy 10 dollars get 2 off on Monday. The offer is valid for 10 days from receipt. If the customer accumulates at least 10 dollars in purchases during the validity period, the customer completes the offer.\n",
    "\n",
    "However, there are a few things to watch out for in this data set. Customers do not opt into the offers that they receive; in other words, a user can receive an offer, never actually view the offer, and still complete the offer. For example, a user might receive the \"buy 10 dollars get 2 dollars off offer\", but the user never opens the offer during the 10 day validity period. The customer spends 15 dollars during those ten days. There will be an offer completion record in the data set; however, the customer was not influenced by the offer because the customer never viewed the offer.\n",
    "\n",
    "### Cleaning\n",
    "\n",
    "This makes data cleaning especially important and tricky.\n",
    "\n",
    "You'll also want to take into account that some demographic groups will make purchases even if they don't receive an offer. From a business perspective, if a customer is going to make a 10 dollar purchase without an offer anyway, you wouldn't want to send a buy 10 dollars get 2 dollars off offer. You'll want to try to assess what a certain demographic group will buy when not receiving any offers.\n",
    "\n",
    "### Final Advice\n",
    "\n",
    "Because this is a capstone project, you are free to analyze the data any way you see fit. For example, you could build a machine learning model that predicts how much someone will spend based on demographics and offer type. Or you could build a model that predicts whether or not someone will respond to an offer. Or, you don't need to build a machine learning model at all. You could develop a set of heuristics that determine what offer you should send to each customer (i.e., 75 percent of women customers who were 35 years old responded to offer A vs 40 percent from the same demographic to offer B, so send offer A)."
   ]
  },
  {
   "cell_type": "markdown",
   "metadata": {},
   "source": [
    "# Data Sets\n",
    "\n",
    "The data is contained in three files:\n",
    "\n",
    "* portfolio.json - containing offer ids and meta data about each offer (duration, type, etc.)\n",
    "* profile.json - demographic data for each customer\n",
    "* transcript.json - records for transactions, offers received, offers viewed, and offers completed\n",
    "\n",
    "Here is the schema and explanation of each variable in the files:\n",
    "\n",
    "**portfolio.json**\n",
    "* id (string) - offer id\n",
    "* offer_type (string) - type of offer ie BOGO, discount, informational\n",
    "* difficulty (int) - minimum required spend to complete an offer\n",
    "* reward (int) - reward given for completing an offer\n",
    "* duration (int) - time for offer to be open, in days\n",
    "* channels (list of strings)\n",
    "\n",
    "**profile.json**\n",
    "* age (int) - age of the customer \n",
    "* became_member_on (int) - date when customer created an app account\n",
    "* gender (str) - gender of the customer (note some entries contain 'O' for other rather than M or F)\n",
    "* id (str) - customer id\n",
    "* income (float) - customer's income\n",
    "\n",
    "**transcript.json**\n",
    "* event (str) - record description (ie transaction, offer received, offer viewed, etc.)\n",
    "* person (str) - customer id\n",
    "* time (int) - time in hours since start of test. The data begins at time t=0\n",
    "* value - (dict of strings) - either an offer id or transaction amount depending on the record"
   ]
  },
  {
   "cell_type": "code",
   "execution_count": 1,
   "metadata": {},
   "outputs": [],
   "source": [
    "# Import required libraries\n",
    "import pandas as pd\n",
    "import numpy as np\n",
    "import math\n",
    "import json\n",
    "import seaborn as sns\n",
    "import matplotlib.pyplot as plt\n",
    "from datetime import datetime\n",
    "from sklearn.preprocessing import MinMaxScaler\n",
    "from sklearn.model_selection import train_test_split\n",
    "from sklearn.ensemble import RandomForestClassifier\n",
    "from sklearn.neighbors import KNeighborsClassifier\n",
    "from sklearn.metrics import fbeta_score, accuracy_score\n",
    "from sklearn.tree import DecisionTreeClassifier \n",
    "from sklearn.model_selection import cross_val_score\n",
    "import warnings\n",
    "warnings.filterwarnings('ignore')\n",
    "\n",
    "\n",
    "# read in the json files\n",
    "portfolios = pd.read_json('portfolio.json', orient='records', lines=True)\n",
    "profiles = pd.read_json('profile.json', orient='records', lines=True)\n",
    "transcripts = pd.read_json('transcript.json', orient='records', lines=True)"
   ]
  },
  {
   "cell_type": "markdown",
   "metadata": {},
   "source": [
    "# i) Data Exploration"
   ]
  },
  {
   "cell_type": "markdown",
   "metadata": {},
   "source": [
    "## 1. Exploring the Portfolio dataframe"
   ]
  },
  {
   "cell_type": "code",
   "execution_count": 6,
   "metadata": {},
   "outputs": [
    {
     "data": {
      "text/html": [
       "<div>\n",
       "<style scoped>\n",
       "    .dataframe tbody tr th:only-of-type {\n",
       "        vertical-align: middle;\n",
       "    }\n",
       "\n",
       "    .dataframe tbody tr th {\n",
       "        vertical-align: top;\n",
       "    }\n",
       "\n",
       "    .dataframe thead th {\n",
       "        text-align: right;\n",
       "    }\n",
       "</style>\n",
       "<table border=\"1\" class=\"dataframe\">\n",
       "  <thead>\n",
       "    <tr style=\"text-align: right;\">\n",
       "      <th></th>\n",
       "      <th>reward</th>\n",
       "      <th>channels</th>\n",
       "      <th>difficulty</th>\n",
       "      <th>duration</th>\n",
       "      <th>offer_type</th>\n",
       "      <th>id</th>\n",
       "    </tr>\n",
       "  </thead>\n",
       "  <tbody>\n",
       "    <tr>\n",
       "      <td>0</td>\n",
       "      <td>10</td>\n",
       "      <td>[email, mobile, social]</td>\n",
       "      <td>10</td>\n",
       "      <td>7</td>\n",
       "      <td>bogo</td>\n",
       "      <td>ae264e3637204a6fb9bb56bc8210ddfd</td>\n",
       "    </tr>\n",
       "    <tr>\n",
       "      <td>1</td>\n",
       "      <td>10</td>\n",
       "      <td>[web, email, mobile, social]</td>\n",
       "      <td>10</td>\n",
       "      <td>5</td>\n",
       "      <td>bogo</td>\n",
       "      <td>4d5c57ea9a6940dd891ad53e9dbe8da0</td>\n",
       "    </tr>\n",
       "    <tr>\n",
       "      <td>2</td>\n",
       "      <td>0</td>\n",
       "      <td>[web, email, mobile]</td>\n",
       "      <td>0</td>\n",
       "      <td>4</td>\n",
       "      <td>informational</td>\n",
       "      <td>3f207df678b143eea3cee63160fa8bed</td>\n",
       "    </tr>\n",
       "    <tr>\n",
       "      <td>3</td>\n",
       "      <td>5</td>\n",
       "      <td>[web, email, mobile]</td>\n",
       "      <td>5</td>\n",
       "      <td>7</td>\n",
       "      <td>bogo</td>\n",
       "      <td>9b98b8c7a33c4b65b9aebfe6a799e6d9</td>\n",
       "    </tr>\n",
       "    <tr>\n",
       "      <td>4</td>\n",
       "      <td>5</td>\n",
       "      <td>[web, email]</td>\n",
       "      <td>20</td>\n",
       "      <td>10</td>\n",
       "      <td>discount</td>\n",
       "      <td>0b1e1539f2cc45b7b9fa7c272da2e1d7</td>\n",
       "    </tr>\n",
       "    <tr>\n",
       "      <td>5</td>\n",
       "      <td>3</td>\n",
       "      <td>[web, email, mobile, social]</td>\n",
       "      <td>7</td>\n",
       "      <td>7</td>\n",
       "      <td>discount</td>\n",
       "      <td>2298d6c36e964ae4a3e7e9706d1fb8c2</td>\n",
       "    </tr>\n",
       "    <tr>\n",
       "      <td>6</td>\n",
       "      <td>2</td>\n",
       "      <td>[web, email, mobile, social]</td>\n",
       "      <td>10</td>\n",
       "      <td>10</td>\n",
       "      <td>discount</td>\n",
       "      <td>fafdcd668e3743c1bb461111dcafc2a4</td>\n",
       "    </tr>\n",
       "    <tr>\n",
       "      <td>7</td>\n",
       "      <td>0</td>\n",
       "      <td>[email, mobile, social]</td>\n",
       "      <td>0</td>\n",
       "      <td>3</td>\n",
       "      <td>informational</td>\n",
       "      <td>5a8bc65990b245e5a138643cd4eb9837</td>\n",
       "    </tr>\n",
       "    <tr>\n",
       "      <td>8</td>\n",
       "      <td>5</td>\n",
       "      <td>[web, email, mobile, social]</td>\n",
       "      <td>5</td>\n",
       "      <td>5</td>\n",
       "      <td>bogo</td>\n",
       "      <td>f19421c1d4aa40978ebb69ca19b0e20d</td>\n",
       "    </tr>\n",
       "    <tr>\n",
       "      <td>9</td>\n",
       "      <td>2</td>\n",
       "      <td>[web, email, mobile]</td>\n",
       "      <td>10</td>\n",
       "      <td>7</td>\n",
       "      <td>discount</td>\n",
       "      <td>2906b810c7d4411798c6938adc9daaa5</td>\n",
       "    </tr>\n",
       "  </tbody>\n",
       "</table>\n",
       "</div>"
      ],
      "text/plain": [
       "   reward                      channels  difficulty  duration     offer_type  \\\n",
       "0      10       [email, mobile, social]          10         7           bogo   \n",
       "1      10  [web, email, mobile, social]          10         5           bogo   \n",
       "2       0          [web, email, mobile]           0         4  informational   \n",
       "3       5          [web, email, mobile]           5         7           bogo   \n",
       "4       5                  [web, email]          20        10       discount   \n",
       "5       3  [web, email, mobile, social]           7         7       discount   \n",
       "6       2  [web, email, mobile, social]          10        10       discount   \n",
       "7       0       [email, mobile, social]           0         3  informational   \n",
       "8       5  [web, email, mobile, social]           5         5           bogo   \n",
       "9       2          [web, email, mobile]          10         7       discount   \n",
       "\n",
       "                                 id  \n",
       "0  ae264e3637204a6fb9bb56bc8210ddfd  \n",
       "1  4d5c57ea9a6940dd891ad53e9dbe8da0  \n",
       "2  3f207df678b143eea3cee63160fa8bed  \n",
       "3  9b98b8c7a33c4b65b9aebfe6a799e6d9  \n",
       "4  0b1e1539f2cc45b7b9fa7c272da2e1d7  \n",
       "5  2298d6c36e964ae4a3e7e9706d1fb8c2  \n",
       "6  fafdcd668e3743c1bb461111dcafc2a4  \n",
       "7  5a8bc65990b245e5a138643cd4eb9837  \n",
       "8  f19421c1d4aa40978ebb69ca19b0e20d  \n",
       "9  2906b810c7d4411798c6938adc9daaa5  "
      ]
     },
     "execution_count": 6,
     "metadata": {},
     "output_type": "execute_result"
    }
   ],
   "source": [
    "portfolios.head(10)"
   ]
  },
  {
   "cell_type": "code",
   "execution_count": 7,
   "metadata": {},
   "outputs": [
    {
     "name": "stdout",
     "output_type": "stream",
     "text": [
      "portfolio: Rows = 10, Columns = 6\n"
     ]
    }
   ],
   "source": [
    "print(\"portfolio: Rows = {0}, Columns = {1}\".format(str(portfolios.shape[0]), str(portfolios.shape[1])))"
   ]
  },
  {
   "cell_type": "code",
   "execution_count": 8,
   "metadata": {},
   "outputs": [
    {
     "name": "stdout",
     "output_type": "stream",
     "text": [
      "<class 'pandas.core.frame.DataFrame'>\n",
      "RangeIndex: 10 entries, 0 to 9\n",
      "Data columns (total 6 columns):\n",
      "reward        10 non-null int64\n",
      "channels      10 non-null object\n",
      "difficulty    10 non-null int64\n",
      "duration      10 non-null int64\n",
      "offer_type    10 non-null object\n",
      "id            10 non-null object\n",
      "dtypes: int64(3), object(3)\n",
      "memory usage: 608.0+ bytes\n"
     ]
    }
   ],
   "source": [
    "portfolios.info()"
   ]
  },
  {
   "cell_type": "code",
   "execution_count": 9,
   "metadata": {},
   "outputs": [
    {
     "data": {
      "text/html": [
       "<div>\n",
       "<style scoped>\n",
       "    .dataframe tbody tr th:only-of-type {\n",
       "        vertical-align: middle;\n",
       "    }\n",
       "\n",
       "    .dataframe tbody tr th {\n",
       "        vertical-align: top;\n",
       "    }\n",
       "\n",
       "    .dataframe thead th {\n",
       "        text-align: right;\n",
       "    }\n",
       "</style>\n",
       "<table border=\"1\" class=\"dataframe\">\n",
       "  <thead>\n",
       "    <tr style=\"text-align: right;\">\n",
       "      <th></th>\n",
       "      <th>reward</th>\n",
       "      <th>difficulty</th>\n",
       "      <th>duration</th>\n",
       "    </tr>\n",
       "  </thead>\n",
       "  <tbody>\n",
       "    <tr>\n",
       "      <td>count</td>\n",
       "      <td>10.000000</td>\n",
       "      <td>10.000000</td>\n",
       "      <td>10.000000</td>\n",
       "    </tr>\n",
       "    <tr>\n",
       "      <td>mean</td>\n",
       "      <td>4.200000</td>\n",
       "      <td>7.700000</td>\n",
       "      <td>6.500000</td>\n",
       "    </tr>\n",
       "    <tr>\n",
       "      <td>std</td>\n",
       "      <td>3.583915</td>\n",
       "      <td>5.831905</td>\n",
       "      <td>2.321398</td>\n",
       "    </tr>\n",
       "    <tr>\n",
       "      <td>min</td>\n",
       "      <td>0.000000</td>\n",
       "      <td>0.000000</td>\n",
       "      <td>3.000000</td>\n",
       "    </tr>\n",
       "    <tr>\n",
       "      <td>25%</td>\n",
       "      <td>2.000000</td>\n",
       "      <td>5.000000</td>\n",
       "      <td>5.000000</td>\n",
       "    </tr>\n",
       "    <tr>\n",
       "      <td>50%</td>\n",
       "      <td>4.000000</td>\n",
       "      <td>8.500000</td>\n",
       "      <td>7.000000</td>\n",
       "    </tr>\n",
       "    <tr>\n",
       "      <td>75%</td>\n",
       "      <td>5.000000</td>\n",
       "      <td>10.000000</td>\n",
       "      <td>7.000000</td>\n",
       "    </tr>\n",
       "    <tr>\n",
       "      <td>max</td>\n",
       "      <td>10.000000</td>\n",
       "      <td>20.000000</td>\n",
       "      <td>10.000000</td>\n",
       "    </tr>\n",
       "  </tbody>\n",
       "</table>\n",
       "</div>"
      ],
      "text/plain": [
       "          reward  difficulty   duration\n",
       "count  10.000000   10.000000  10.000000\n",
       "mean    4.200000    7.700000   6.500000\n",
       "std     3.583915    5.831905   2.321398\n",
       "min     0.000000    0.000000   3.000000\n",
       "25%     2.000000    5.000000   5.000000\n",
       "50%     4.000000    8.500000   7.000000\n",
       "75%     5.000000   10.000000   7.000000\n",
       "max    10.000000   20.000000  10.000000"
      ]
     },
     "execution_count": 9,
     "metadata": {},
     "output_type": "execute_result"
    }
   ],
   "source": [
    "portfolios.describe()"
   ]
  },
  {
   "cell_type": "code",
   "execution_count": 11,
   "metadata": {},
   "outputs": [],
   "source": [
    "def horizontal_bar_plots(df, colName, pltTitle, pltfigsize=[5,5], bInvertYAxis=True, fntSize=12, fntWeight='bold'):\n",
    "    \"\"\"\n",
    "    Creates a horizontal bar plot with counts of categories\n",
    "    \n",
    "    Parameters\n",
    "    ----------\n",
    "    df: The dataframe with categories.\n",
    "    \n",
    "    colName: The name of the column containing the categories.\n",
    "    \n",
    "    pltTitle: The plot title.\n",
    "    \n",
    "    pltfigsize: The figure size of the plot (default is [5,5]).\n",
    "    \n",
    "    bInvertYAxis: A flag to indicating whether to invert the Y-Axis or not.\n",
    "    \n",
    "    fntSize: The font size of text (default to 12 point font size)\n",
    "    \n",
    "    fntWeight: The weight of font (default to 'bold', it could be 'italic')\n",
    "    \n",
    "    Returns\n",
    "    -------\n",
    "    None\n",
    "    \"\"\"\n",
    "    plt.figure(figsize=pltfigsize)\n",
    "    fig, ax = plt.subplots()    \n",
    "    y_counts = df[colName].value_counts()\n",
    "    if bInvertYAxis == True:\n",
    "        y_counts.plot(kind='barh').invert_yaxis()\n",
    "    else:\n",
    "         y_counts.plot(kind='barh')   \n",
    "    for i, v in enumerate(y_counts):\n",
    "        ax.text(v, i, str(v), color='black', fontsize=fntSize, fontweight=fntWeight)\n",
    "        plt.title(pltTitle)"
   ]
  },
  {
   "cell_type": "code",
   "execution_count": 12,
   "metadata": {},
   "outputs": [
    {
     "data": {
      "image/png": "[encoded data removed]",
      "text/plain": [
       "<Figure size 360x360 with 1 Axes>"
      ]
     },
     "metadata": {
      "needs_background": "light"
     },
     "output_type": "display_data"
    }
   ],
   "source": [
    "ax = portfolio[\"offer_type\"].value_counts().plot.bar(\n",
    "    figsize=(5,5),\n",
    "    fontsize=14,\n",
    "\n",
    ")\n",
    "\n",
    "ax.set_title(\"What are the offer types?\", fontsize=20)\n",
    "ax.set_xlabel(\"Offers\", fontsize=15)\n",
    "ax.set_ylabel(\"Frequency\", fontsize=15)\n",
    "sns.despine(bottom=True, left=True)"
   ]
  },
  {
   "cell_type": "code",
   "execution_count": 13,
   "metadata": {},
   "outputs": [
    {
     "data": {
      "text/plain": [
       "<Figure size 360x360 with 0 Axes>"
      ]
     },
     "metadata": {},
     "output_type": "display_data"
    },
    {
     "data": {
      "image/png": "[encoded data removed]",
      "text/plain": [
       "<Figure size 432x288 with 1 Axes>"
      ]
     },
     "metadata": {
      "needs_background": "light"
     },
     "output_type": "display_data"
    }
   ],
   "source": [
    "horizontal_bar_plots(portfolios, 'offer_type', \"Break-down of available offer types in portfolio\")"
   ]
  },
  {
   "cell_type": "code",
   "execution_count": 14,
   "metadata": {},
   "outputs": [
    {
     "data": {
      "text/plain": [
       "<Figure size 360x360 with 0 Axes>"
      ]
     },
     "metadata": {},
     "output_type": "display_data"
    },
    {
     "data": {
      "image/png": "[encoded data removed]",
      "text/plain": [
       "<Figure size 432x288 with 1 Axes>"
      ]
     },
     "metadata": {
      "needs_background": "light"
     },
     "output_type": "display_data"
    }
   ],
   "source": [
    "horizontal_bar_plots(portfolios, 'duration', \"Break-down of offer duration in portfolio\")"
   ]
  },
  {
   "cell_type": "code",
   "execution_count": 15,
   "metadata": {},
   "outputs": [
    {
     "data": {
      "image/png": "[encoded data removed]",
      "text/plain": [
       "<Figure size 864x360 with 3 Axes>"
      ]
     },
     "metadata": {},
     "output_type": "display_data"
    }
   ],
   "source": [
    "#Creating Subplots for distribution based on Gender,Age and Income\n",
    "sns.set_style('darkgrid')\n",
    "fig,ax= plt.subplots(1,3,sharex=False, sharey=False,figsize=(12,5))\n",
    "fig.tight_layout()\n",
    "# GENDER BASED\n",
    "profile.gender.value_counts().plot.bar(ax=ax[0],fontsize=10) \n",
    "ax[0].set_title(\"Distribution Gender Wise\", fontsize=15,color='blue')\n",
    "ax[0].set_xlabel(\"Gender\", fontsize=10)\n",
    "ax[0].set_ylabel(\"Frequency\", fontsize=10)\n",
    "sns.despine(bottom=True, left=True)\n",
    "\n",
    "\n",
    "# AGE BASED\n",
    "profile.age.plot.hist(ax=ax[1],fontsize=10,edgecolor='black') \n",
    "ax[1].set_title(\"Distribution Age  Wise\", fontsize=15,color='blue')\n",
    "ax[1].set_xlabel(\"Age\", fontsize=10)\n",
    "ax[1].set_ylabel(\"Frequency\", fontsize=10)\n",
    "sns.despine(bottom=True, left=True)\n",
    "\n",
    "# INCOME BASED\n",
    "profile.income.plot.hist(ax=ax[2],fontsize=10,edgecolor='black',range=(20000, 120000)) \n",
    "ax[2].set_title(\"Distribution Income Wise\", fontsize=15,color='blue')\n",
    "ax[2].set_xlabel(\"Income\", fontsize=10)\n",
    "ax[2].set_ylabel(\"Frequency\", fontsize=10)\n",
    "sns.despine(bottom=True, left=True)\n",
    "plt.show()\n",
    "\n"
   ]
  },
  {
   "cell_type": "markdown",
   "metadata": {},
   "source": [
    "## 2. Exploring the Profile dataframe"
   ]
  },
  {
   "cell_type": "code",
   "execution_count": 16,
   "metadata": {},
   "outputs": [
    {
     "data": {
      "text/html": [
       "<div>\n",
       "<style scoped>\n",
       "    .dataframe tbody tr th:only-of-type {\n",
       "        vertical-align: middle;\n",
       "    }\n",
       "\n",
       "    .dataframe tbody tr th {\n",
       "        vertical-align: top;\n",
       "    }\n",
       "\n",
       "    .dataframe thead th {\n",
       "        text-align: right;\n",
       "    }\n",
       "</style>\n",
       "<table border=\"1\" class=\"dataframe\">\n",
       "  <thead>\n",
       "    <tr style=\"text-align: right;\">\n",
       "      <th></th>\n",
       "      <th>gender</th>\n",
       "      <th>age</th>\n",
       "      <th>id</th>\n",
       "      <th>became_member_on</th>\n",
       "      <th>income</th>\n",
       "    </tr>\n",
       "  </thead>\n",
       "  <tbody>\n",
       "    <tr>\n",
       "      <td>0</td>\n",
       "      <td>None</td>\n",
       "      <td>118</td>\n",
       "      <td>68be06ca386d4c31939f3a4f0e3dd783</td>\n",
       "      <td>20170212</td>\n",
       "      <td>NaN</td>\n",
       "    </tr>\n",
       "    <tr>\n",
       "      <td>1</td>\n",
       "      <td>F</td>\n",
       "      <td>55</td>\n",
       "      <td>0610b486422d4921ae7d2bf64640c50b</td>\n",
       "      <td>20170715</td>\n",
       "      <td>112000.0</td>\n",
       "    </tr>\n",
       "    <tr>\n",
       "      <td>2</td>\n",
       "      <td>None</td>\n",
       "      <td>118</td>\n",
       "      <td>38fe809add3b4fcf9315a9694bb96ff5</td>\n",
       "      <td>20180712</td>\n",
       "      <td>NaN</td>\n",
       "    </tr>\n",
       "    <tr>\n",
       "      <td>3</td>\n",
       "      <td>F</td>\n",
       "      <td>75</td>\n",
       "      <td>78afa995795e4d85b5d9ceeca43f5fef</td>\n",
       "      <td>20170509</td>\n",
       "      <td>100000.0</td>\n",
       "    </tr>\n",
       "    <tr>\n",
       "      <td>4</td>\n",
       "      <td>None</td>\n",
       "      <td>118</td>\n",
       "      <td>a03223e636434f42ac4c3df47e8bac43</td>\n",
       "      <td>20170804</td>\n",
       "      <td>NaN</td>\n",
       "    </tr>\n",
       "    <tr>\n",
       "      <td>5</td>\n",
       "      <td>M</td>\n",
       "      <td>68</td>\n",
       "      <td>e2127556f4f64592b11af22de27a7932</td>\n",
       "      <td>20180426</td>\n",
       "      <td>70000.0</td>\n",
       "    </tr>\n",
       "    <tr>\n",
       "      <td>6</td>\n",
       "      <td>None</td>\n",
       "      <td>118</td>\n",
       "      <td>8ec6ce2a7e7949b1bf142def7d0e0586</td>\n",
       "      <td>20170925</td>\n",
       "      <td>NaN</td>\n",
       "    </tr>\n",
       "    <tr>\n",
       "      <td>7</td>\n",
       "      <td>None</td>\n",
       "      <td>118</td>\n",
       "      <td>68617ca6246f4fbc85e91a2a49552598</td>\n",
       "      <td>20171002</td>\n",
       "      <td>NaN</td>\n",
       "    </tr>\n",
       "    <tr>\n",
       "      <td>8</td>\n",
       "      <td>M</td>\n",
       "      <td>65</td>\n",
       "      <td>389bc3fa690240e798340f5a15918d5c</td>\n",
       "      <td>20180209</td>\n",
       "      <td>53000.0</td>\n",
       "    </tr>\n",
       "    <tr>\n",
       "      <td>9</td>\n",
       "      <td>None</td>\n",
       "      <td>118</td>\n",
       "      <td>8974fc5686fe429db53ddde067b88302</td>\n",
       "      <td>20161122</td>\n",
       "      <td>NaN</td>\n",
       "    </tr>\n",
       "  </tbody>\n",
       "</table>\n",
       "</div>"
      ],
      "text/plain": [
       "  gender  age                                id  became_member_on    income\n",
       "0   None  118  68be06ca386d4c31939f3a4f0e3dd783          20170212       NaN\n",
       "1      F   55  0610b486422d4921ae7d2bf64640c50b          20170715  112000.0\n",
       "2   None  118  38fe809add3b4fcf9315a9694bb96ff5          20180712       NaN\n",
       "3      F   75  78afa995795e4d85b5d9ceeca43f5fef          20170509  100000.0\n",
       "4   None  118  a03223e636434f42ac4c3df47e8bac43          20170804       NaN\n",
       "5      M   68  e2127556f4f64592b11af22de27a7932          20180426   70000.0\n",
       "6   None  118  8ec6ce2a7e7949b1bf142def7d0e0586          20170925       NaN\n",
       "7   None  118  68617ca6246f4fbc85e91a2a49552598          20171002       NaN\n",
       "8      M   65  389bc3fa690240e798340f5a15918d5c          20180209   53000.0\n",
       "9   None  118  8974fc5686fe429db53ddde067b88302          20161122       NaN"
      ]
     },
     "execution_count": 16,
     "metadata": {},
     "output_type": "execute_result"
    }
   ],
   "source": [
    "profiles.head(10)"
   ]
  },
  {
   "cell_type": "code",
   "execution_count": 17,
   "metadata": {},
   "outputs": [
    {
     "name": "stdout",
     "output_type": "stream",
     "text": [
      "profile: Rows = 17000, Columns = 5\n"
     ]
    }
   ],
   "source": [
    "print(\"profile: Rows = {0}, Columns = {1}\".format(str(profiles.shape[0]), str(profiles.shape[1])))"
   ]
  },
  {
   "cell_type": "code",
   "execution_count": 18,
   "metadata": {},
   "outputs": [
    {
     "name": "stdout",
     "output_type": "stream",
     "text": [
      "<class 'pandas.core.frame.DataFrame'>\n",
      "RangeIndex: 17000 entries, 0 to 16999\n",
      "Data columns (total 5 columns):\n",
      "gender              14825 non-null object\n",
      "age                 17000 non-null int64\n",
      "id                  17000 non-null object\n",
      "became_member_on    17000 non-null int64\n",
      "income              14825 non-null float64\n",
      "dtypes: float64(1), int64(2), object(2)\n",
      "memory usage: 664.2+ KB\n"
     ]
    }
   ],
   "source": [
    "profiles.info()"
   ]
  },
  {
   "cell_type": "code",
   "execution_count": 20,
   "metadata": {},
   "outputs": [
    {
     "data": {
      "text/html": [
       "<div>\n",
       "<style scoped>\n",
       "    .dataframe tbody tr th:only-of-type {\n",
       "        vertical-align: middle;\n",
       "    }\n",
       "\n",
       "    .dataframe tbody tr th {\n",
       "        vertical-align: top;\n",
       "    }\n",
       "\n",
       "    .dataframe thead th {\n",
       "        text-align: right;\n",
       "    }\n",
       "</style>\n",
       "<table border=\"1\" class=\"dataframe\">\n",
       "  <thead>\n",
       "    <tr style=\"text-align: right;\">\n",
       "      <th></th>\n",
       "      <th>gender</th>\n",
       "      <th>age</th>\n",
       "      <th>id</th>\n",
       "      <th>became_member_on</th>\n",
       "      <th>income</th>\n",
       "    </tr>\n",
       "  </thead>\n",
       "  <tbody>\n",
       "    <tr>\n",
       "      <td>count</td>\n",
       "      <td>14825</td>\n",
       "      <td>17000.000000</td>\n",
       "      <td>17000</td>\n",
       "      <td>1.700000e+04</td>\n",
       "      <td>14825.000000</td>\n",
       "    </tr>\n",
       "    <tr>\n",
       "      <td>unique</td>\n",
       "      <td>3</td>\n",
       "      <td>NaN</td>\n",
       "      <td>17000</td>\n",
       "      <td>NaN</td>\n",
       "      <td>NaN</td>\n",
       "    </tr>\n",
       "    <tr>\n",
       "      <td>top</td>\n",
       "      <td>M</td>\n",
       "      <td>NaN</td>\n",
       "      <td>90b9b612883340d683fdc1979dd79831</td>\n",
       "      <td>NaN</td>\n",
       "      <td>NaN</td>\n",
       "    </tr>\n",
       "    <tr>\n",
       "      <td>freq</td>\n",
       "      <td>8484</td>\n",
       "      <td>NaN</td>\n",
       "      <td>1</td>\n",
       "      <td>NaN</td>\n",
       "      <td>NaN</td>\n",
       "    </tr>\n",
       "    <tr>\n",
       "      <td>mean</td>\n",
       "      <td>NaN</td>\n",
       "      <td>62.531412</td>\n",
       "      <td>NaN</td>\n",
       "      <td>2.016703e+07</td>\n",
       "      <td>65404.991568</td>\n",
       "    </tr>\n",
       "    <tr>\n",
       "      <td>std</td>\n",
       "      <td>NaN</td>\n",
       "      <td>26.738580</td>\n",
       "      <td>NaN</td>\n",
       "      <td>1.167750e+04</td>\n",
       "      <td>21598.299410</td>\n",
       "    </tr>\n",
       "    <tr>\n",
       "      <td>min</td>\n",
       "      <td>NaN</td>\n",
       "      <td>18.000000</td>\n",
       "      <td>NaN</td>\n",
       "      <td>2.013073e+07</td>\n",
       "      <td>30000.000000</td>\n",
       "    </tr>\n",
       "    <tr>\n",
       "      <td>25%</td>\n",
       "      <td>NaN</td>\n",
       "      <td>45.000000</td>\n",
       "      <td>NaN</td>\n",
       "      <td>2.016053e+07</td>\n",
       "      <td>49000.000000</td>\n",
       "    </tr>\n",
       "    <tr>\n",
       "      <td>50%</td>\n",
       "      <td>NaN</td>\n",
       "      <td>58.000000</td>\n",
       "      <td>NaN</td>\n",
       "      <td>2.017080e+07</td>\n",
       "      <td>64000.000000</td>\n",
       "    </tr>\n",
       "    <tr>\n",
       "      <td>75%</td>\n",
       "      <td>NaN</td>\n",
       "      <td>73.000000</td>\n",
       "      <td>NaN</td>\n",
       "      <td>2.017123e+07</td>\n",
       "      <td>80000.000000</td>\n",
       "    </tr>\n",
       "    <tr>\n",
       "      <td>max</td>\n",
       "      <td>NaN</td>\n",
       "      <td>118.000000</td>\n",
       "      <td>NaN</td>\n",
       "      <td>2.018073e+07</td>\n",
       "      <td>120000.000000</td>\n",
       "    </tr>\n",
       "  </tbody>\n",
       "</table>\n",
       "</div>"
      ],
      "text/plain": [
       "       gender           age                                id  \\\n",
       "count   14825  17000.000000                             17000   \n",
       "unique      3           NaN                             17000   \n",
       "top         M           NaN  90b9b612883340d683fdc1979dd79831   \n",
       "freq     8484           NaN                                 1   \n",
       "mean      NaN     62.531412                               NaN   \n",
       "std       NaN     26.738580                               NaN   \n",
       "min       NaN     18.000000                               NaN   \n",
       "25%       NaN     45.000000                               NaN   \n",
       "50%       NaN     58.000000                               NaN   \n",
       "75%       NaN     73.000000                               NaN   \n",
       "max       NaN    118.000000                               NaN   \n",
       "\n",
       "        became_member_on         income  \n",
       "count       1.700000e+04   14825.000000  \n",
       "unique               NaN            NaN  \n",
       "top                  NaN            NaN  \n",
       "freq                 NaN            NaN  \n",
       "mean        2.016703e+07   65404.991568  \n",
       "std         1.167750e+04   21598.299410  \n",
       "min         2.013073e+07   30000.000000  \n",
       "25%         2.016053e+07   49000.000000  \n",
       "50%         2.017080e+07   64000.000000  \n",
       "75%         2.017123e+07   80000.000000  \n",
       "max         2.018073e+07  120000.000000  "
      ]
     },
     "execution_count": 20,
     "metadata": {},
     "output_type": "execute_result"
    }
   ],
   "source": [
    "profiles.describe(include=\"all\")"
   ]
  },
  {
   "cell_type": "code",
   "execution_count": 21,
   "metadata": {},
   "outputs": [
    {
     "data": {
      "text/plain": [
       "gender              2175\n",
       "age                    0\n",
       "id                     0\n",
       "became_member_on       0\n",
       "income              2175\n",
       "dtype: int64"
      ]
     },
     "execution_count": 21,
     "metadata": {},
     "output_type": "execute_result"
    }
   ],
   "source": [
    "#check for null values \n",
    "profiles.isnull().sum()"
   ]
  },
  {
   "cell_type": "code",
   "execution_count": 22,
   "metadata": {},
   "outputs": [
    {
     "data": {
      "text/plain": [
       "2175"
      ]
     },
     "execution_count": 22,
     "metadata": {},
     "output_type": "execute_result"
    }
   ],
   "source": [
    "profiles[profiles['age']== 118].age.count()"
   ]
  },
  {
   "cell_type": "markdown",
   "metadata": {},
   "source": [
    "According to the description of the profile data frame and checking null values, it looks like values of gender & income are missing where age is 118. To confirm, I'll print the values with age 118."
   ]
  },
  {
   "cell_type": "code",
   "execution_count": 23,
   "metadata": {},
   "outputs": [
    {
     "data": {
      "text/html": [
       "<div>\n",
       "<style scoped>\n",
       "    .dataframe tbody tr th:only-of-type {\n",
       "        vertical-align: middle;\n",
       "    }\n",
       "\n",
       "    .dataframe tbody tr th {\n",
       "        vertical-align: top;\n",
       "    }\n",
       "\n",
       "    .dataframe thead th {\n",
       "        text-align: right;\n",
       "    }\n",
       "</style>\n",
       "<table border=\"1\" class=\"dataframe\">\n",
       "  <thead>\n",
       "    <tr style=\"text-align: right;\">\n",
       "      <th></th>\n",
       "      <th>gender</th>\n",
       "      <th>age</th>\n",
       "      <th>income</th>\n",
       "    </tr>\n",
       "  </thead>\n",
       "  <tbody>\n",
       "    <tr>\n",
       "      <td>0</td>\n",
       "      <td>None</td>\n",
       "      <td>118</td>\n",
       "      <td>NaN</td>\n",
       "    </tr>\n",
       "    <tr>\n",
       "      <td>2</td>\n",
       "      <td>None</td>\n",
       "      <td>118</td>\n",
       "      <td>NaN</td>\n",
       "    </tr>\n",
       "    <tr>\n",
       "      <td>4</td>\n",
       "      <td>None</td>\n",
       "      <td>118</td>\n",
       "      <td>NaN</td>\n",
       "    </tr>\n",
       "    <tr>\n",
       "      <td>6</td>\n",
       "      <td>None</td>\n",
       "      <td>118</td>\n",
       "      <td>NaN</td>\n",
       "    </tr>\n",
       "    <tr>\n",
       "      <td>7</td>\n",
       "      <td>None</td>\n",
       "      <td>118</td>\n",
       "      <td>NaN</td>\n",
       "    </tr>\n",
       "    <tr>\n",
       "      <td>...</td>\n",
       "      <td>...</td>\n",
       "      <td>...</td>\n",
       "      <td>...</td>\n",
       "    </tr>\n",
       "    <tr>\n",
       "      <td>16980</td>\n",
       "      <td>None</td>\n",
       "      <td>118</td>\n",
       "      <td>NaN</td>\n",
       "    </tr>\n",
       "    <tr>\n",
       "      <td>16982</td>\n",
       "      <td>None</td>\n",
       "      <td>118</td>\n",
       "      <td>NaN</td>\n",
       "    </tr>\n",
       "    <tr>\n",
       "      <td>16989</td>\n",
       "      <td>None</td>\n",
       "      <td>118</td>\n",
       "      <td>NaN</td>\n",
       "    </tr>\n",
       "    <tr>\n",
       "      <td>16991</td>\n",
       "      <td>None</td>\n",
       "      <td>118</td>\n",
       "      <td>NaN</td>\n",
       "    </tr>\n",
       "    <tr>\n",
       "      <td>16994</td>\n",
       "      <td>None</td>\n",
       "      <td>118</td>\n",
       "      <td>NaN</td>\n",
       "    </tr>\n",
       "  </tbody>\n",
       "</table>\n",
       "<p>2175 rows × 3 columns</p>\n",
       "</div>"
      ],
      "text/plain": [
       "      gender  age  income\n",
       "0       None  118     NaN\n",
       "2       None  118     NaN\n",
       "4       None  118     NaN\n",
       "6       None  118     NaN\n",
       "7       None  118     NaN\n",
       "...      ...  ...     ...\n",
       "16980   None  118     NaN\n",
       "16982   None  118     NaN\n",
       "16989   None  118     NaN\n",
       "16991   None  118     NaN\n",
       "16994   None  118     NaN\n",
       "\n",
       "[2175 rows x 3 columns]"
      ]
     },
     "execution_count": 23,
     "metadata": {},
     "output_type": "execute_result"
    }
   ],
   "source": [
    "profiles[profiles['age']== 118].drop(['became_member_on' ,'id'], axis=1)"
   ]
  },
  {
   "cell_type": "markdown",
   "metadata": {},
   "source": [
    "Thus, it is confirmed that both gender & income for the age 118 are missing. All missing age values are encoded as 118."
   ]
  },
  {
   "cell_type": "markdown",
   "metadata": {},
   "source": [
    "### 2.a. Analysing the age values in the profile dataframe"
   ]
  },
  {
   "cell_type": "code",
   "execution_count": 25,
   "metadata": {},
   "outputs": [
    {
     "data": {
      "text/plain": [
       "118    2175\n",
       "58      408\n",
       "53      372\n",
       "51      363\n",
       "54      359\n",
       "       ... \n",
       "100      12\n",
       "96        8\n",
       "98        5\n",
       "99        5\n",
       "101       5\n",
       "Name: age, Length: 85, dtype: int64"
      ]
     },
     "execution_count": 25,
     "metadata": {},
     "output_type": "execute_result"
    }
   ],
   "source": [
    "#check for different age values\n",
    "profiles.age.value_counts()"
   ]
  },
  {
   "cell_type": "code",
   "execution_count": 24,
   "metadata": {},
   "outputs": [
    {
     "data": {
      "text/html": [
       "<div>\n",
       "<style scoped>\n",
       "    .dataframe tbody tr th:only-of-type {\n",
       "        vertical-align: middle;\n",
       "    }\n",
       "\n",
       "    .dataframe tbody tr th {\n",
       "        vertical-align: top;\n",
       "    }\n",
       "\n",
       "    .dataframe thead th {\n",
       "        text-align: right;\n",
       "    }\n",
       "</style>\n",
       "<table border=\"1\" class=\"dataframe\">\n",
       "  <thead>\n",
       "    <tr style=\"text-align: right;\">\n",
       "      <th></th>\n",
       "      <th>gender</th>\n",
       "      <th>age</th>\n",
       "      <th>id</th>\n",
       "      <th>became_member_on</th>\n",
       "      <th>income</th>\n",
       "    </tr>\n",
       "  </thead>\n",
       "  <tbody>\n",
       "    <tr>\n",
       "      <td>33</td>\n",
       "      <td>F</td>\n",
       "      <td>96</td>\n",
       "      <td>868317b9be554cb18e50bc68484749a2</td>\n",
       "      <td>20171117</td>\n",
       "      <td>89000.0</td>\n",
       "    </tr>\n",
       "    <tr>\n",
       "      <td>94</td>\n",
       "      <td>F</td>\n",
       "      <td>89</td>\n",
       "      <td>4264b1d027cc493281bba4f44bfedaca</td>\n",
       "      <td>20171114</td>\n",
       "      <td>87000.0</td>\n",
       "    </tr>\n",
       "    <tr>\n",
       "      <td>98</td>\n",
       "      <td>F</td>\n",
       "      <td>90</td>\n",
       "      <td>1c587de019994f93a242c6864fd7bc55</td>\n",
       "      <td>20151210</td>\n",
       "      <td>98000.0</td>\n",
       "    </tr>\n",
       "    <tr>\n",
       "      <td>126</td>\n",
       "      <td>M</td>\n",
       "      <td>83</td>\n",
       "      <td>4c29d22467af4d7faa137c4eedd65340</td>\n",
       "      <td>20180127</td>\n",
       "      <td>46000.0</td>\n",
       "    </tr>\n",
       "    <tr>\n",
       "      <td>131</td>\n",
       "      <td>F</td>\n",
       "      <td>89</td>\n",
       "      <td>3dae0eadb47149b0b9b548d14548524b</td>\n",
       "      <td>20180114</td>\n",
       "      <td>65000.0</td>\n",
       "    </tr>\n",
       "    <tr>\n",
       "      <td>...</td>\n",
       "      <td>...</td>\n",
       "      <td>...</td>\n",
       "      <td>...</td>\n",
       "      <td>...</td>\n",
       "      <td>...</td>\n",
       "    </tr>\n",
       "    <tr>\n",
       "      <td>16914</td>\n",
       "      <td>M</td>\n",
       "      <td>87</td>\n",
       "      <td>d1c4500ace2e45e9a45d3cd2fccac8d8</td>\n",
       "      <td>20140920</td>\n",
       "      <td>59000.0</td>\n",
       "    </tr>\n",
       "    <tr>\n",
       "      <td>16933</td>\n",
       "      <td>M</td>\n",
       "      <td>85</td>\n",
       "      <td>a65353ea28ff442aabfb39eb974326e3</td>\n",
       "      <td>20161001</td>\n",
       "      <td>96000.0</td>\n",
       "    </tr>\n",
       "    <tr>\n",
       "      <td>16938</td>\n",
       "      <td>F</td>\n",
       "      <td>89</td>\n",
       "      <td>da7bf9d84fd74a72bdee595007bcca7a</td>\n",
       "      <td>20170413</td>\n",
       "      <td>68000.0</td>\n",
       "    </tr>\n",
       "    <tr>\n",
       "      <td>16981</td>\n",
       "      <td>M</td>\n",
       "      <td>84</td>\n",
       "      <td>1966fa40d2f84620b2b1b9b64f8e0209</td>\n",
       "      <td>20160629</td>\n",
       "      <td>93000.0</td>\n",
       "    </tr>\n",
       "    <tr>\n",
       "      <td>16998</td>\n",
       "      <td>F</td>\n",
       "      <td>83</td>\n",
       "      <td>9dc1421481194dcd9400aec7c9ae6366</td>\n",
       "      <td>20160307</td>\n",
       "      <td>50000.0</td>\n",
       "    </tr>\n",
       "  </tbody>\n",
       "</table>\n",
       "<p>986 rows × 5 columns</p>\n",
       "</div>"
      ],
      "text/plain": [
       "      gender  age                                id  became_member_on   income\n",
       "33         F   96  868317b9be554cb18e50bc68484749a2          20171117  89000.0\n",
       "94         F   89  4264b1d027cc493281bba4f44bfedaca          20171114  87000.0\n",
       "98         F   90  1c587de019994f93a242c6864fd7bc55          20151210  98000.0\n",
       "126        M   83  4c29d22467af4d7faa137c4eedd65340          20180127  46000.0\n",
       "131        F   89  3dae0eadb47149b0b9b548d14548524b          20180114  65000.0\n",
       "...      ...  ...                               ...               ...      ...\n",
       "16914      M   87  d1c4500ace2e45e9a45d3cd2fccac8d8          20140920  59000.0\n",
       "16933      M   85  a65353ea28ff442aabfb39eb974326e3          20161001  96000.0\n",
       "16938      F   89  da7bf9d84fd74a72bdee595007bcca7a          20170413  68000.0\n",
       "16981      M   84  1966fa40d2f84620b2b1b9b64f8e0209          20160629  93000.0\n",
       "16998      F   83  9dc1421481194dcd9400aec7c9ae6366          20160307  50000.0\n",
       "\n",
       "[986 rows x 5 columns]"
      ]
     },
     "execution_count": 24,
     "metadata": {},
     "output_type": "execute_result"
    }
   ],
   "source": [
    "#check for age above 80 and less than 118 \n",
    "profiles[(profiles['age'] > 80) & (profiles['age'] < 118)]"
   ]
  },
  {
   "cell_type": "markdown",
   "metadata": {},
   "source": [
    "Let us create a boxplot to find the outliers in our data frame"
   ]
  },
  {
   "cell_type": "code",
   "execution_count": 26,
   "metadata": {},
   "outputs": [
    {
     "data": {
      "image/png": "[encoded data removed]",
      "text/plain": [
       "<Figure size 432x288 with 1 Axes>"
      ]
     },
     "metadata": {},
     "output_type": "display_data"
    }
   ],
   "source": [
    "sns.boxplot(profiles['age'], width=0.5);"
   ]
  },
  {
   "cell_type": "code",
   "execution_count": 27,
   "metadata": {},
   "outputs": [],
   "source": [
    "def exploded_pie_plots(df, colName, pltTitle, pltColors=[], pltLabels=[], pltExplode=(), pltFigSize=[5, 5]):\n",
    "    \"\"\"\n",
    "    Creates an exploded pie plot with percentages of each categories for the column provided.\n",
    "    \n",
    "    Parameters\n",
    "    ----------\n",
    "    df: The dataframe with categories.\n",
    "    \n",
    "    colName: The name of the column containing the categories.\n",
    "    \n",
    "    pltTitle: The plot title.\n",
    "    \n",
    "    pltColors: The array of colors to use.\n",
    "    \n",
    "    pltLabels: The array of plot labels to use for each of the categories.\n",
    "    \n",
    "    pltExplode: The proportions to pass in for exploding the slices (e.g. 0.1, 0, 0 will explode the first category out by 10%)\n",
    "    \n",
    "    pltFigSize: The figure size of the plot (default is [5,5])\n",
    "    \n",
    "    Returns\n",
    "    -------\n",
    "    None\n",
    "    \"\"\"\n",
    "    plt.figure(figsize=[5, 5])\n",
    "    pltValues = df[colName].value_counts()\n",
    "    colors = pltColors\n",
    "    labels = pltLabels\n",
    "    explode = pltExplode # if (0.1, 0, 0) then explode 1st slice by 10% and dont explode 2nd and 3rd slizes\n",
    "    plt.pie(pltValues, colors=pltColors, labels=pltLabels, explode=pltExplode, autopct='%1.2f%%', counterclock=False, shadow=True)\n",
    "    plt.title(pltTitle)"
   ]
  },
  {
   "cell_type": "code",
   "execution_count": 28,
   "metadata": {},
   "outputs": [
    {
     "data": {
      "image/png": "[encoded data removed]",
      "text/plain": [
       "<Figure size 360x360 with 1 Axes>"
      ]
     },
     "metadata": {},
     "output_type": "display_data"
    }
   ],
   "source": [
    "exploded_pie_plots(profiles, 'gender', 'Gender distribution in profile', ['blue', 'darkorange', 'green'], ['Male', 'Female', 'Other'], (0.1, 0, 0))"
   ]
  },
  {
   "cell_type": "markdown",
   "metadata": {},
   "source": [
    "It seems to be like people with age greater than 80 don't use the app much or they may not drink much beverages. So, I consider people with the above age as outliers."
   ]
  },
  {
   "cell_type": "markdown",
   "metadata": {},
   "source": [
    "### 2.b. Gender counts in the profile dataframe"
   ]
  },
  {
   "cell_type": "code",
   "execution_count": 32,
   "metadata": {},
   "outputs": [
    {
     "data": {
      "text/plain": [
       "<Figure size 360x360 with 0 Axes>"
      ]
     },
     "metadata": {},
     "output_type": "display_data"
    },
    {
     "data": {
      "image/png": "[encoded data removed]",
      "text/plain": [
       "<Figure size 432x288 with 1 Axes>"
      ]
     },
     "metadata": {},
     "output_type": "display_data"
    }
   ],
   "source": [
    "horizontal_bar_plots(profiles, 'gender', \"Gender counts in profile\")"
   ]
  },
  {
   "cell_type": "code",
   "execution_count": 30,
   "metadata": {},
   "outputs": [],
   "source": [
    "def exploded_pie_plot(df, colName, pltTitle, pltColors=[], pltLabels=[], pltExplode=(), pltFigSize=[5, 5]):\n",
    "    \"\"\"\n",
    "    Creates an exploded pie plot with percentages of each categories for the column provided.\n",
    "    \n",
    "    Parameters\n",
    "    ----------\n",
    "    df: The dataframe with categories.\n",
    "    \n",
    "    colName: The name of the column containing the categories.\n",
    "    \n",
    "    pltTitle: The plot title.\n",
    "    \n",
    "    pltColors: The array of colors to use.\n",
    "    \n",
    "    pltLabels: The array of plot labels to use for each of the categories.\n",
    "    \n",
    "    pltExplode: The proportions to pass in for exploding the slices (e.g. 0.1, 0, 0 will explode the first category out by 10%)\n",
    "    \n",
    "    pltFigSize: The figure size of the plot (default is [5,5])\n",
    "    \n",
    "    Returns\n",
    "    -------\n",
    "    None\n",
    "    \"\"\"\n",
    "    plt.figure(figsize=[5, 5])\n",
    "    pltValues = df[colName].value_counts()\n",
    "    colors = pltColors\n",
    "    labels = pltLabels\n",
    "    explode = pltExplode # if (0.1, 0, 0) then explode 1st slice by 10% and dont explode 2nd and 3rd slizes\n",
    "    plt.pie(pltValues, colors=pltColors, labels=pltLabels, explode=pltExplode, autopct='%1.2f%%', counterclock=False, shadow=True)\n",
    "    plt.title(pltTitle)"
   ]
  },
  {
   "cell_type": "code",
   "execution_count": 31,
   "metadata": {},
   "outputs": [
    {
     "data": {
      "image/png": "[encoded data removed]",
      "text/plain": [
       "<Figure size 360x360 with 1 Axes>"
      ]
     },
     "metadata": {},
     "output_type": "display_data"
    }
   ],
   "source": [
    "exploded_pie_plot(profiles, 'gender', 'Gender distribution in profile', ['blue', 'darkorange', 'green'], ['Male', 'Female', 'Other'], (0.1, 0, 0))"
   ]
  },
  {
   "cell_type": "markdown",
   "metadata": {},
   "source": [
    "## 3. Exploring the Transcript dataframe"
   ]
  },
  {
   "cell_type": "code",
   "execution_count": 33,
   "metadata": {},
   "outputs": [
    {
     "data": {
      "text/html": [
       "<div>\n",
       "<style scoped>\n",
       "    .dataframe tbody tr th:only-of-type {\n",
       "        vertical-align: middle;\n",
       "    }\n",
       "\n",
       "    .dataframe tbody tr th {\n",
       "        vertical-align: top;\n",
       "    }\n",
       "\n",
       "    .dataframe thead th {\n",
       "        text-align: right;\n",
       "    }\n",
       "</style>\n",
       "<table border=\"1\" class=\"dataframe\">\n",
       "  <thead>\n",
       "    <tr style=\"text-align: right;\">\n",
       "      <th></th>\n",
       "      <th>person</th>\n",
       "      <th>event</th>\n",
       "      <th>value</th>\n",
       "      <th>time</th>\n",
       "    </tr>\n",
       "  </thead>\n",
       "  <tbody>\n",
       "    <tr>\n",
       "      <td>0</td>\n",
       "      <td>78afa995795e4d85b5d9ceeca43f5fef</td>\n",
       "      <td>offer received</td>\n",
       "      <td>{'offer id': '9b98b8c7a33c4b65b9aebfe6a799e6d9'}</td>\n",
       "      <td>0</td>\n",
       "    </tr>\n",
       "    <tr>\n",
       "      <td>1</td>\n",
       "      <td>a03223e636434f42ac4c3df47e8bac43</td>\n",
       "      <td>offer received</td>\n",
       "      <td>{'offer id': '0b1e1539f2cc45b7b9fa7c272da2e1d7'}</td>\n",
       "      <td>0</td>\n",
       "    </tr>\n",
       "    <tr>\n",
       "      <td>2</td>\n",
       "      <td>e2127556f4f64592b11af22de27a7932</td>\n",
       "      <td>offer received</td>\n",
       "      <td>{'offer id': '2906b810c7d4411798c6938adc9daaa5'}</td>\n",
       "      <td>0</td>\n",
       "    </tr>\n",
       "    <tr>\n",
       "      <td>3</td>\n",
       "      <td>8ec6ce2a7e7949b1bf142def7d0e0586</td>\n",
       "      <td>offer received</td>\n",
       "      <td>{'offer id': 'fafdcd668e3743c1bb461111dcafc2a4'}</td>\n",
       "      <td>0</td>\n",
       "    </tr>\n",
       "    <tr>\n",
       "      <td>4</td>\n",
       "      <td>68617ca6246f4fbc85e91a2a49552598</td>\n",
       "      <td>offer received</td>\n",
       "      <td>{'offer id': '4d5c57ea9a6940dd891ad53e9dbe8da0'}</td>\n",
       "      <td>0</td>\n",
       "    </tr>\n",
       "    <tr>\n",
       "      <td>5</td>\n",
       "      <td>389bc3fa690240e798340f5a15918d5c</td>\n",
       "      <td>offer received</td>\n",
       "      <td>{'offer id': 'f19421c1d4aa40978ebb69ca19b0e20d'}</td>\n",
       "      <td>0</td>\n",
       "    </tr>\n",
       "    <tr>\n",
       "      <td>6</td>\n",
       "      <td>c4863c7985cf408faee930f111475da3</td>\n",
       "      <td>offer received</td>\n",
       "      <td>{'offer id': '2298d6c36e964ae4a3e7e9706d1fb8c2'}</td>\n",
       "      <td>0</td>\n",
       "    </tr>\n",
       "    <tr>\n",
       "      <td>7</td>\n",
       "      <td>2eeac8d8feae4a8cad5a6af0499a211d</td>\n",
       "      <td>offer received</td>\n",
       "      <td>{'offer id': '3f207df678b143eea3cee63160fa8bed'}</td>\n",
       "      <td>0</td>\n",
       "    </tr>\n",
       "    <tr>\n",
       "      <td>8</td>\n",
       "      <td>aa4862eba776480b8bb9c68455b8c2e1</td>\n",
       "      <td>offer received</td>\n",
       "      <td>{'offer id': '0b1e1539f2cc45b7b9fa7c272da2e1d7'}</td>\n",
       "      <td>0</td>\n",
       "    </tr>\n",
       "    <tr>\n",
       "      <td>9</td>\n",
       "      <td>31dda685af34476cad5bc968bdb01c53</td>\n",
       "      <td>offer received</td>\n",
       "      <td>{'offer id': '0b1e1539f2cc45b7b9fa7c272da2e1d7'}</td>\n",
       "      <td>0</td>\n",
       "    </tr>\n",
       "  </tbody>\n",
       "</table>\n",
       "</div>"
      ],
      "text/plain": [
       "                             person           event  \\\n",
       "0  78afa995795e4d85b5d9ceeca43f5fef  offer received   \n",
       "1  a03223e636434f42ac4c3df47e8bac43  offer received   \n",
       "2  e2127556f4f64592b11af22de27a7932  offer received   \n",
       "3  8ec6ce2a7e7949b1bf142def7d0e0586  offer received   \n",
       "4  68617ca6246f4fbc85e91a2a49552598  offer received   \n",
       "5  389bc3fa690240e798340f5a15918d5c  offer received   \n",
       "6  c4863c7985cf408faee930f111475da3  offer received   \n",
       "7  2eeac8d8feae4a8cad5a6af0499a211d  offer received   \n",
       "8  aa4862eba776480b8bb9c68455b8c2e1  offer received   \n",
       "9  31dda685af34476cad5bc968bdb01c53  offer received   \n",
       "\n",
       "                                              value  time  \n",
       "0  {'offer id': '9b98b8c7a33c4b65b9aebfe6a799e6d9'}     0  \n",
       "1  {'offer id': '0b1e1539f2cc45b7b9fa7c272da2e1d7'}     0  \n",
       "2  {'offer id': '2906b810c7d4411798c6938adc9daaa5'}     0  \n",
       "3  {'offer id': 'fafdcd668e3743c1bb461111dcafc2a4'}     0  \n",
       "4  {'offer id': '4d5c57ea9a6940dd891ad53e9dbe8da0'}     0  \n",
       "5  {'offer id': 'f19421c1d4aa40978ebb69ca19b0e20d'}     0  \n",
       "6  {'offer id': '2298d6c36e964ae4a3e7e9706d1fb8c2'}     0  \n",
       "7  {'offer id': '3f207df678b143eea3cee63160fa8bed'}     0  \n",
       "8  {'offer id': '0b1e1539f2cc45b7b9fa7c272da2e1d7'}     0  \n",
       "9  {'offer id': '0b1e1539f2cc45b7b9fa7c272da2e1d7'}     0  "
      ]
     },
     "execution_count": 33,
     "metadata": {},
     "output_type": "execute_result"
    }
   ],
   "source": [
    "transcript.head(10)"
   ]
  },
  {
   "cell_type": "code",
   "execution_count": 34,
   "metadata": {},
   "outputs": [
    {
     "name": "stdout",
     "output_type": "stream",
     "text": [
      "transcript: Rows = 306534, Columns = 4\n"
     ]
    }
   ],
   "source": [
    "print(\"transcript: Rows = {0}, Columns = {1}\".format(str(transcript.shape[0]), str(transcript.shape[1])))"
   ]
  },
  {
   "cell_type": "code",
   "execution_count": 36,
   "metadata": {},
   "outputs": [
    {
     "name": "stdout",
     "output_type": "stream",
     "text": [
      "<class 'pandas.core.frame.DataFrame'>\n",
      "RangeIndex: 306534 entries, 0 to 306533\n",
      "Data columns (total 4 columns):\n",
      "person    306534 non-null object\n",
      "event     306534 non-null object\n",
      "value     306534 non-null object\n",
      "time      306534 non-null int64\n",
      "dtypes: int64(1), object(3)\n",
      "memory usage: 9.4+ MB\n"
     ]
    }
   ],
   "source": [
    "transcript.info()"
   ]
  },
  {
   "cell_type": "code",
   "execution_count": 37,
   "metadata": {},
   "outputs": [
    {
     "data": {
      "text/plain": [
       "person    0\n",
       "event     0\n",
       "value     0\n",
       "time      0\n",
       "dtype: int64"
      ]
     },
     "execution_count": 37,
     "metadata": {},
     "output_type": "execute_result"
    }
   ],
   "source": [
    "#check for null values\n",
    "transcript.isnull().sum()"
   ]
  },
  {
   "cell_type": "code",
   "execution_count": 39,
   "metadata": {},
   "outputs": [
    {
     "data": {
      "text/plain": [
       "{'offer id': '2298d6c36e964ae4a3e7e9706d1fb8c2'}    14983\n",
       "{'offer id': 'fafdcd668e3743c1bb461111dcafc2a4'}    14924\n",
       "{'offer id': '4d5c57ea9a6940dd891ad53e9dbe8da0'}    14891\n",
       "{'offer id': 'f19421c1d4aa40978ebb69ca19b0e20d'}    14835\n",
       "{'offer id': 'ae264e3637204a6fb9bb56bc8210ddfd'}    14374\n",
       "                                                    ...  \n",
       "{'amount': 439.14}                                      1\n",
       "{'amount': 42.75}                                       1\n",
       "{'amount': 650.75}                                      1\n",
       "{'amount': 943.4}                                       1\n",
       "{'amount': 44.21}                                       1\n",
       "Name: value, Length: 5121, dtype: int64"
      ]
     },
     "execution_count": 39,
     "metadata": {},
     "output_type": "execute_result"
    }
   ],
   "source": [
    "transcript.value.value_counts()"
   ]
  },
  {
   "cell_type": "markdown",
   "metadata": {},
   "source": [
    "It can be seen that there are 4 possible values: 'offer id', 'offer_id', 'reward' and 'amount', out of which 'offer id' and 'offer_id' are to be considered same."
   ]
  },
  {
   "cell_type": "code",
   "execution_count": 41,
   "metadata": {},
   "outputs": [
    {
     "data": {
      "text/html": [
       "<div>\n",
       "<style scoped>\n",
       "    .dataframe tbody tr th:only-of-type {\n",
       "        vertical-align: middle;\n",
       "    }\n",
       "\n",
       "    .dataframe tbody tr th {\n",
       "        vertical-align: top;\n",
       "    }\n",
       "\n",
       "    .dataframe thead th {\n",
       "        text-align: right;\n",
       "    }\n",
       "</style>\n",
       "<table border=\"1\" class=\"dataframe\">\n",
       "  <thead>\n",
       "    <tr style=\"text-align: right;\">\n",
       "      <th></th>\n",
       "      <th>person</th>\n",
       "      <th>event</th>\n",
       "      <th>value</th>\n",
       "      <th>time</th>\n",
       "    </tr>\n",
       "  </thead>\n",
       "  <tbody>\n",
       "    <tr>\n",
       "      <td>count</td>\n",
       "      <td>306534</td>\n",
       "      <td>306534</td>\n",
       "      <td>306534</td>\n",
       "      <td>306534.000000</td>\n",
       "    </tr>\n",
       "    <tr>\n",
       "      <td>unique</td>\n",
       "      <td>17000</td>\n",
       "      <td>4</td>\n",
       "      <td>5121</td>\n",
       "      <td>NaN</td>\n",
       "    </tr>\n",
       "    <tr>\n",
       "      <td>top</td>\n",
       "      <td>94de646f7b6041228ca7dec82adb97d2</td>\n",
       "      <td>transaction</td>\n",
       "      <td>{'offer id': '2298d6c36e964ae4a3e7e9706d1fb8c2'}</td>\n",
       "      <td>NaN</td>\n",
       "    </tr>\n",
       "    <tr>\n",
       "      <td>freq</td>\n",
       "      <td>51</td>\n",
       "      <td>138953</td>\n",
       "      <td>14983</td>\n",
       "      <td>NaN</td>\n",
       "    </tr>\n",
       "    <tr>\n",
       "      <td>mean</td>\n",
       "      <td>NaN</td>\n",
       "      <td>NaN</td>\n",
       "      <td>NaN</td>\n",
       "      <td>366.382940</td>\n",
       "    </tr>\n",
       "    <tr>\n",
       "      <td>std</td>\n",
       "      <td>NaN</td>\n",
       "      <td>NaN</td>\n",
       "      <td>NaN</td>\n",
       "      <td>200.326314</td>\n",
       "    </tr>\n",
       "    <tr>\n",
       "      <td>min</td>\n",
       "      <td>NaN</td>\n",
       "      <td>NaN</td>\n",
       "      <td>NaN</td>\n",
       "      <td>0.000000</td>\n",
       "    </tr>\n",
       "    <tr>\n",
       "      <td>25%</td>\n",
       "      <td>NaN</td>\n",
       "      <td>NaN</td>\n",
       "      <td>NaN</td>\n",
       "      <td>186.000000</td>\n",
       "    </tr>\n",
       "    <tr>\n",
       "      <td>50%</td>\n",
       "      <td>NaN</td>\n",
       "      <td>NaN</td>\n",
       "      <td>NaN</td>\n",
       "      <td>408.000000</td>\n",
       "    </tr>\n",
       "    <tr>\n",
       "      <td>75%</td>\n",
       "      <td>NaN</td>\n",
       "      <td>NaN</td>\n",
       "      <td>NaN</td>\n",
       "      <td>528.000000</td>\n",
       "    </tr>\n",
       "    <tr>\n",
       "      <td>max</td>\n",
       "      <td>NaN</td>\n",
       "      <td>NaN</td>\n",
       "      <td>NaN</td>\n",
       "      <td>714.000000</td>\n",
       "    </tr>\n",
       "  </tbody>\n",
       "</table>\n",
       "</div>"
      ],
      "text/plain": [
       "                                  person        event  \\\n",
       "count                             306534       306534   \n",
       "unique                             17000            4   \n",
       "top     94de646f7b6041228ca7dec82adb97d2  transaction   \n",
       "freq                                  51       138953   \n",
       "mean                                 NaN          NaN   \n",
       "std                                  NaN          NaN   \n",
       "min                                  NaN          NaN   \n",
       "25%                                  NaN          NaN   \n",
       "50%                                  NaN          NaN   \n",
       "75%                                  NaN          NaN   \n",
       "max                                  NaN          NaN   \n",
       "\n",
       "                                                   value           time  \n",
       "count                                             306534  306534.000000  \n",
       "unique                                              5121            NaN  \n",
       "top     {'offer id': '2298d6c36e964ae4a3e7e9706d1fb8c2'}            NaN  \n",
       "freq                                               14983            NaN  \n",
       "mean                                                 NaN     366.382940  \n",
       "std                                                  NaN     200.326314  \n",
       "min                                                  NaN       0.000000  \n",
       "25%                                                  NaN     186.000000  \n",
       "50%                                                  NaN     408.000000  \n",
       "75%                                                  NaN     528.000000  \n",
       "max                                                  NaN     714.000000  "
      ]
     },
     "execution_count": 41,
     "metadata": {},
     "output_type": "execute_result"
    }
   ],
   "source": [
    "transcript.describe(include=\"all\")"
   ]
  },
  {
   "cell_type": "code",
   "execution_count": 43,
   "metadata": {},
   "outputs": [
    {
     "data": {
      "text/plain": [
       "<Figure size 360x360 with 0 Axes>"
      ]
     },
     "metadata": {},
     "output_type": "display_data"
    },
    {
     "data": {
      "image/png": "[encoded data removed]",
      "text/plain": [
       "<Figure size 432x288 with 1 Axes>"
      ]
     },
     "metadata": {},
     "output_type": "display_data"
    }
   ],
   "source": [
    "horizontal_bar_plots(transcript, 'event', \"Break-down of available event types in transcript\")"
   ]
  },
  {
   "cell_type": "markdown",
   "metadata": {},
   "source": [
    "# ii) Data Preparation and Cleaning"
   ]
  },
  {
   "cell_type": "markdown",
   "metadata": {},
   "source": [
    "## 1. Cleaning Portfolio"
   ]
  },
  {
   "cell_type": "markdown",
   "metadata": {},
   "source": [
    "Renaming some columns for better readability & easiness in merging dataframes later."
   ]
  },
  {
   "cell_type": "code",
   "execution_count": 2,
   "metadata": {},
   "outputs": [],
   "source": [
    "def rename_cols(df, new_cols_name):\n",
    "    \"\"\"\n",
    "    Parameters\n",
    "    ----------\n",
    "    df: input dataframe for renaming columns\n",
    "    new_cols_name: define new column name for each column\n",
    "    \n",
    "    Returns\n",
    "    -------\n",
    "    df: output data frame with renamed column names\n",
    "       \n",
    "    \"\"\"\n",
    "\n",
    "    df= df.rename(columns = new_cols_name)\n",
    "    return df"
   ]
  },
  {
   "cell_type": "code",
   "execution_count": 3,
   "metadata": {},
   "outputs": [],
   "source": [
    "#rename columns\n",
    "new_cols_name = {'difficulty':'offer_difficulty' , 'id':'offer_id', 'duration':'offer_duration', 'reward': 'offer_reward'}\n",
    "cleaned_portfolio = rename_cols(portfolios, new_cols_name )"
   ]
  },
  {
   "cell_type": "code",
   "execution_count": 4,
   "metadata": {},
   "outputs": [
    {
     "data": {
      "text/html": [
       "<div>\n",
       "<style scoped>\n",
       "    .dataframe tbody tr th:only-of-type {\n",
       "        vertical-align: middle;\n",
       "    }\n",
       "\n",
       "    .dataframe tbody tr th {\n",
       "        vertical-align: top;\n",
       "    }\n",
       "\n",
       "    .dataframe thead th {\n",
       "        text-align: right;\n",
       "    }\n",
       "</style>\n",
       "<table border=\"1\" class=\"dataframe\">\n",
       "  <thead>\n",
       "    <tr style=\"text-align: right;\">\n",
       "      <th></th>\n",
       "      <th>offer_reward</th>\n",
       "      <th>channels</th>\n",
       "      <th>offer_difficulty</th>\n",
       "      <th>offer_duration</th>\n",
       "      <th>offer_type</th>\n",
       "      <th>offer_id</th>\n",
       "    </tr>\n",
       "  </thead>\n",
       "  <tbody>\n",
       "    <tr>\n",
       "      <td>0</td>\n",
       "      <td>10</td>\n",
       "      <td>[email, mobile, social]</td>\n",
       "      <td>10</td>\n",
       "      <td>7</td>\n",
       "      <td>bogo</td>\n",
       "      <td>ae264e3637204a6fb9bb56bc8210ddfd</td>\n",
       "    </tr>\n",
       "    <tr>\n",
       "      <td>1</td>\n",
       "      <td>10</td>\n",
       "      <td>[web, email, mobile, social]</td>\n",
       "      <td>10</td>\n",
       "      <td>5</td>\n",
       "      <td>bogo</td>\n",
       "      <td>4d5c57ea9a6940dd891ad53e9dbe8da0</td>\n",
       "    </tr>\n",
       "    <tr>\n",
       "      <td>2</td>\n",
       "      <td>0</td>\n",
       "      <td>[web, email, mobile]</td>\n",
       "      <td>0</td>\n",
       "      <td>4</td>\n",
       "      <td>informational</td>\n",
       "      <td>3f207df678b143eea3cee63160fa8bed</td>\n",
       "    </tr>\n",
       "    <tr>\n",
       "      <td>3</td>\n",
       "      <td>5</td>\n",
       "      <td>[web, email, mobile]</td>\n",
       "      <td>5</td>\n",
       "      <td>7</td>\n",
       "      <td>bogo</td>\n",
       "      <td>9b98b8c7a33c4b65b9aebfe6a799e6d9</td>\n",
       "    </tr>\n",
       "    <tr>\n",
       "      <td>4</td>\n",
       "      <td>5</td>\n",
       "      <td>[web, email]</td>\n",
       "      <td>20</td>\n",
       "      <td>10</td>\n",
       "      <td>discount</td>\n",
       "      <td>0b1e1539f2cc45b7b9fa7c272da2e1d7</td>\n",
       "    </tr>\n",
       "  </tbody>\n",
       "</table>\n",
       "</div>"
      ],
      "text/plain": [
       "   offer_reward                      channels  offer_difficulty  \\\n",
       "0            10       [email, mobile, social]                10   \n",
       "1            10  [web, email, mobile, social]                10   \n",
       "2             0          [web, email, mobile]                 0   \n",
       "3             5          [web, email, mobile]                 5   \n",
       "4             5                  [web, email]                20   \n",
       "\n",
       "   offer_duration     offer_type                          offer_id  \n",
       "0               7           bogo  ae264e3637204a6fb9bb56bc8210ddfd  \n",
       "1               5           bogo  4d5c57ea9a6940dd891ad53e9dbe8da0  \n",
       "2               4  informational  3f207df678b143eea3cee63160fa8bed  \n",
       "3               7           bogo  9b98b8c7a33c4b65b9aebfe6a799e6d9  \n",
       "4              10       discount  0b1e1539f2cc45b7b9fa7c272da2e1d7  "
      ]
     },
     "execution_count": 4,
     "metadata": {},
     "output_type": "execute_result"
    }
   ],
   "source": [
    "cleaned_portfolio.head()"
   ]
  },
  {
   "cell_type": "code",
   "execution_count": 5,
   "metadata": {},
   "outputs": [
    {
     "data": {
      "text/plain": [
       "Index(['offer_reward', 'channels', 'offer_difficulty', 'offer_duration',\n",
       "       'offer_type', 'offer_id'],\n",
       "      dtype='object')"
      ]
     },
     "execution_count": 5,
     "metadata": {},
     "output_type": "execute_result"
    }
   ],
   "source": [
    "cleaned_portfolio.columns"
   ]
  },
  {
   "cell_type": "markdown",
   "metadata": {},
   "source": [
    "## 2. Cleaning Profile"
   ]
  },
  {
   "cell_type": "markdown",
   "metadata": {},
   "source": [
    "#### Tasks:\n",
    "1. Renaming some columns for better readability & easiness in merging dataframes later.<br />\n",
    "2. In order to not lose data with null values, it is better to impute them. So, I will consider imputing missing age & income values with mean and missing gender values with mode.<br />\n",
    "3. Considering people with age above 80 as outliers, remove them from the dataset.\n",
    "4. Classifying ages into groups for better understanding in Exploratory Data Analysis later:\n",
    "    * Under 20\n",
    "    * 20 - 45\n",
    "    * 46 - 60\n",
    "    * 61 - 80"
   ]
  },
  {
   "cell_type": "code",
   "execution_count": 12,
   "metadata": {},
   "outputs": [],
   "source": [
    "#rename columns\n",
    "cols_profile = {'id':'customer_id' , 'income':'customer_income'}\n",
    "cleaned_profiles = rename_cols(profiles, cols_profile )"
   ]
  },
  {
   "cell_type": "code",
   "execution_count": 13,
   "metadata": {},
   "outputs": [
    {
     "data": {
      "text/plain": [
       "Index(['gender', 'age', 'customer_id', 'became_member_on', 'customer_income'], dtype='object')"
      ]
     },
     "execution_count": 13,
     "metadata": {},
     "output_type": "execute_result"
    }
   ],
   "source": [
    "cleaned_profiles.columns"
   ]
  },
  {
   "cell_type": "code",
   "execution_count": 14,
   "metadata": {},
   "outputs": [],
   "source": [
    "def cleaning_profiles(df):\n",
    "    \"\"\"\n",
    "    Clean the profile data frame as per tasks 2-4\n",
    "        \n",
    "    Parameters\n",
    "    ----------   \n",
    "    df: data frame\n",
    "    \n",
    "    Returns\n",
    "    -------\n",
    "    df: output data frame as per tasks\n",
    "    \"\"\"\n",
    "    \n",
    "    \n",
    "    #deal with null values\n",
    "    #replace 118 age values with NaN so to replace them easily with mean age\n",
    "    df.replace(118, np.nan , inplace=True)\n",
    "    #replace NaN age values with mean age\n",
    "    df['age'] = df['age'].fillna(df['age'].mean())\n",
    "    #replace missing income values with mean income\n",
    "    df['customer_income'] = df['customer_income'].fillna(df['customer_income'].mean())\n",
    "    #replace missing gender values with mode i.e. most frequent gender\n",
    "    mode = df['gender'].mode()[0]\n",
    "    df['gender'] = df['gender'].fillna(mode)\n",
    "    \n",
    "    #remove outliers\n",
    "    df = df[df['age'] <= 80]\n",
    "    df['age'] = df['age'].astype(int)\n",
    "    \n",
    "    #add Age_group column\n",
    "    df.loc[(df.age < 20) , 'Age_group'] = 'Under 20'\n",
    "    df.loc[(df.age >= 20) & (df.age <= 45) , 'Age_group'] = '20-45'\n",
    "    df.loc[(df.age >= 46) & (df.age <= 60) , 'Age_group'] = '46-60'\n",
    "    df.loc[(df.age >= 61) , 'Age_group'] = '61-80'\n",
    "    df.drop('age',axis=1,inplace=True)\n",
    "    return df"
   ]
  },
  {
   "cell_type": "code",
   "execution_count": 15,
   "metadata": {},
   "outputs": [],
   "source": [
    "cleaned_profiles = cleaning_profiles(cleaned_profiles)"
   ]
  },
  {
   "cell_type": "code",
   "execution_count": 16,
   "metadata": {},
   "outputs": [
    {
     "data": {
      "text/html": [
       "<div>\n",
       "<style scoped>\n",
       "    .dataframe tbody tr th:only-of-type {\n",
       "        vertical-align: middle;\n",
       "    }\n",
       "\n",
       "    .dataframe tbody tr th {\n",
       "        vertical-align: top;\n",
       "    }\n",
       "\n",
       "    .dataframe thead th {\n",
       "        text-align: right;\n",
       "    }\n",
       "</style>\n",
       "<table border=\"1\" class=\"dataframe\">\n",
       "  <thead>\n",
       "    <tr style=\"text-align: right;\">\n",
       "      <th></th>\n",
       "      <th>gender</th>\n",
       "      <th>customer_id</th>\n",
       "      <th>became_member_on</th>\n",
       "      <th>customer_income</th>\n",
       "      <th>Age_group</th>\n",
       "    </tr>\n",
       "  </thead>\n",
       "  <tbody>\n",
       "    <tr>\n",
       "      <td>0</td>\n",
       "      <td>M</td>\n",
       "      <td>68be06ca386d4c31939f3a4f0e3dd783</td>\n",
       "      <td>20170212</td>\n",
       "      <td>65404.991568</td>\n",
       "      <td>46-60</td>\n",
       "    </tr>\n",
       "    <tr>\n",
       "      <td>1</td>\n",
       "      <td>F</td>\n",
       "      <td>0610b486422d4921ae7d2bf64640c50b</td>\n",
       "      <td>20170715</td>\n",
       "      <td>112000.000000</td>\n",
       "      <td>46-60</td>\n",
       "    </tr>\n",
       "    <tr>\n",
       "      <td>2</td>\n",
       "      <td>M</td>\n",
       "      <td>38fe809add3b4fcf9315a9694bb96ff5</td>\n",
       "      <td>20180712</td>\n",
       "      <td>65404.991568</td>\n",
       "      <td>46-60</td>\n",
       "    </tr>\n",
       "    <tr>\n",
       "      <td>3</td>\n",
       "      <td>F</td>\n",
       "      <td>78afa995795e4d85b5d9ceeca43f5fef</td>\n",
       "      <td>20170509</td>\n",
       "      <td>100000.000000</td>\n",
       "      <td>61-80</td>\n",
       "    </tr>\n",
       "    <tr>\n",
       "      <td>4</td>\n",
       "      <td>M</td>\n",
       "      <td>a03223e636434f42ac4c3df47e8bac43</td>\n",
       "      <td>20170804</td>\n",
       "      <td>65404.991568</td>\n",
       "      <td>46-60</td>\n",
       "    </tr>\n",
       "  </tbody>\n",
       "</table>\n",
       "</div>"
      ],
      "text/plain": [
       "  gender                       customer_id  became_member_on  customer_income  \\\n",
       "0      M  68be06ca386d4c31939f3a4f0e3dd783          20170212     65404.991568   \n",
       "1      F  0610b486422d4921ae7d2bf64640c50b          20170715    112000.000000   \n",
       "2      M  38fe809add3b4fcf9315a9694bb96ff5          20180712     65404.991568   \n",
       "3      F  78afa995795e4d85b5d9ceeca43f5fef          20170509    100000.000000   \n",
       "4      M  a03223e636434f42ac4c3df47e8bac43          20170804     65404.991568   \n",
       "\n",
       "  Age_group  \n",
       "0     46-60  \n",
       "1     46-60  \n",
       "2     46-60  \n",
       "3     61-80  \n",
       "4     46-60  "
      ]
     },
     "execution_count": 16,
     "metadata": {},
     "output_type": "execute_result"
    }
   ],
   "source": [
    "cleaned_profiles.head()"
   ]
  },
  {
   "cell_type": "code",
   "execution_count": 60,
   "metadata": {},
   "outputs": [
    {
     "name": "stdout",
     "output_type": "stream",
     "text": [
      "<class 'pandas.core.frame.DataFrame'>\n",
      "Int64Index: 16014 entries, 0 to 16999\n",
      "Data columns (total 5 columns):\n",
      "gender              16014 non-null object\n",
      "customer_id         16014 non-null object\n",
      "became_member_on    16014 non-null int64\n",
      "customer_income     16014 non-null float64\n",
      "Age_group           16014 non-null object\n",
      "dtypes: float64(1), int64(1), object(3)\n",
      "memory usage: 750.7+ KB\n"
     ]
    }
   ],
   "source": [
    "cleaned_profiles.info()"
   ]
  },
  {
   "cell_type": "code",
   "execution_count": 61,
   "metadata": {},
   "outputs": [
    {
     "data": {
      "text/plain": [
       "gender              0\n",
       "customer_id         0\n",
       "became_member_on    0\n",
       "customer_income     0\n",
       "Age_group           0\n",
       "dtype: int64"
      ]
     },
     "execution_count": 61,
     "metadata": {},
     "output_type": "execute_result"
    }
   ],
   "source": [
    "#check for missing values \n",
    "cleaned_profiles.isnull().sum()"
   ]
  },
  {
   "cell_type": "code",
   "execution_count": 62,
   "metadata": {},
   "outputs": [
    {
     "data": {
      "text/plain": [
       "(16014, 5)"
      ]
     },
     "execution_count": 62,
     "metadata": {},
     "output_type": "execute_result"
    }
   ],
   "source": [
    "cleaned_profiles.shape"
   ]
  },
  {
   "cell_type": "markdown",
   "metadata": {},
   "source": [
    "Cleaning profile data frame is complete and now we don't have any null values."
   ]
  },
  {
   "cell_type": "markdown",
   "metadata": {},
   "source": [
    "## 3. Cleaning Transcript"
   ]
  },
  {
   "cell_type": "markdown",
   "metadata": {},
   "source": [
    "#### Tasks:\n",
    "1. Renaming some columns for better readability & easiness in merging dataframes later.<br />\n",
    "2. Expand the keys of the 'value' column into new columns."
   ]
  },
  {
   "cell_type": "code",
   "execution_count": 18,
   "metadata": {},
   "outputs": [],
   "source": [
    "#rename columns\n",
    "transcript_cols = {'person':'customer_id'}\n",
    "cleaned_transcript = rename_cols(transcripts, transcript_cols)"
   ]
  },
  {
   "cell_type": "code",
   "execution_count": 19,
   "metadata": {},
   "outputs": [
    {
     "data": {
      "text/plain": [
       "Index(['customer_id', 'event', 'value', 'time'], dtype='object')"
      ]
     },
     "execution_count": 19,
     "metadata": {},
     "output_type": "execute_result"
    }
   ],
   "source": [
    "cleaned_transcript.columns"
   ]
  },
  {
   "cell_type": "code",
   "execution_count": 20,
   "metadata": {},
   "outputs": [],
   "source": [
    "def cleaning_transcript(df):\n",
    "    \"\"\"\n",
    "    Cleaning the transcript data frame as per task 2.\n",
    "    \n",
    "    Parameters\n",
    "    ----------   \n",
    "    df: data frame\n",
    "    \n",
    "    Returns\n",
    "    -------\n",
    "    df: output data frame as per task\n",
    "    \n",
    "    New column names given for expanded keys\n",
    "    -------\n",
    "    money_gained : money gained from \"offer completed\"\n",
    "    money_spent : money spent in \"transaction\"\n",
    "    offer_id \n",
    "    \"\"\"\n",
    "    \n",
    "    #expand the dictionary to coulmns \n",
    "    df['offer_id'] = df['value'].apply(lambda x: x.get('offer_id'))\n",
    "    df['offer id'] = df['value'].apply(lambda x: x.get('offer id'))\n",
    "    df['money_gained'] = df['value'].apply(lambda x: x.get('reward'))\n",
    "    df['money_spent'] = df['value'].apply(lambda x: x.get('amount'))\n",
    "    \n",
    "    #move 'offer id' values into 'offer_id'\n",
    "    df['offer_id'] = df.apply(lambda x : x['offer id'] if x['offer_id'] == None else x['offer_id'], axis=1)\n",
    "    #drop 'offer id' column \n",
    "    df.drop(['offer id' , 'value'] , axis=1, inplace=True)\n",
    "    #replace nan\n",
    "    df.fillna(0 , inplace=True)\n",
    "    \n",
    "    return df"
   ]
  },
  {
   "cell_type": "code",
   "execution_count": 21,
   "metadata": {},
   "outputs": [],
   "source": [
    "cleaned_transcript = cleaning_transcript(cleaned_transcript)"
   ]
  },
  {
   "cell_type": "code",
   "execution_count": 22,
   "metadata": {},
   "outputs": [
    {
     "data": {
      "text/html": [
       "<div>\n",
       "<style scoped>\n",
       "    .dataframe tbody tr th:only-of-type {\n",
       "        vertical-align: middle;\n",
       "    }\n",
       "\n",
       "    .dataframe tbody tr th {\n",
       "        vertical-align: top;\n",
       "    }\n",
       "\n",
       "    .dataframe thead th {\n",
       "        text-align: right;\n",
       "    }\n",
       "</style>\n",
       "<table border=\"1\" class=\"dataframe\">\n",
       "  <thead>\n",
       "    <tr style=\"text-align: right;\">\n",
       "      <th></th>\n",
       "      <th>customer_id</th>\n",
       "      <th>event</th>\n",
       "      <th>time</th>\n",
       "      <th>offer_id</th>\n",
       "      <th>money_gained</th>\n",
       "      <th>money_spent</th>\n",
       "    </tr>\n",
       "  </thead>\n",
       "  <tbody>\n",
       "    <tr>\n",
       "      <td>0</td>\n",
       "      <td>78afa995795e4d85b5d9ceeca43f5fef</td>\n",
       "      <td>offer received</td>\n",
       "      <td>0</td>\n",
       "      <td>9b98b8c7a33c4b65b9aebfe6a799e6d9</td>\n",
       "      <td>0.0</td>\n",
       "      <td>0.0</td>\n",
       "    </tr>\n",
       "    <tr>\n",
       "      <td>1</td>\n",
       "      <td>a03223e636434f42ac4c3df47e8bac43</td>\n",
       "      <td>offer received</td>\n",
       "      <td>0</td>\n",
       "      <td>0b1e1539f2cc45b7b9fa7c272da2e1d7</td>\n",
       "      <td>0.0</td>\n",
       "      <td>0.0</td>\n",
       "    </tr>\n",
       "    <tr>\n",
       "      <td>2</td>\n",
       "      <td>e2127556f4f64592b11af22de27a7932</td>\n",
       "      <td>offer received</td>\n",
       "      <td>0</td>\n",
       "      <td>2906b810c7d4411798c6938adc9daaa5</td>\n",
       "      <td>0.0</td>\n",
       "      <td>0.0</td>\n",
       "    </tr>\n",
       "    <tr>\n",
       "      <td>3</td>\n",
       "      <td>8ec6ce2a7e7949b1bf142def7d0e0586</td>\n",
       "      <td>offer received</td>\n",
       "      <td>0</td>\n",
       "      <td>fafdcd668e3743c1bb461111dcafc2a4</td>\n",
       "      <td>0.0</td>\n",
       "      <td>0.0</td>\n",
       "    </tr>\n",
       "    <tr>\n",
       "      <td>4</td>\n",
       "      <td>68617ca6246f4fbc85e91a2a49552598</td>\n",
       "      <td>offer received</td>\n",
       "      <td>0</td>\n",
       "      <td>4d5c57ea9a6940dd891ad53e9dbe8da0</td>\n",
       "      <td>0.0</td>\n",
       "      <td>0.0</td>\n",
       "    </tr>\n",
       "  </tbody>\n",
       "</table>\n",
       "</div>"
      ],
      "text/plain": [
       "                        customer_id           event  time  \\\n",
       "0  78afa995795e4d85b5d9ceeca43f5fef  offer received     0   \n",
       "1  a03223e636434f42ac4c3df47e8bac43  offer received     0   \n",
       "2  e2127556f4f64592b11af22de27a7932  offer received     0   \n",
       "3  8ec6ce2a7e7949b1bf142def7d0e0586  offer received     0   \n",
       "4  68617ca6246f4fbc85e91a2a49552598  offer received     0   \n",
       "\n",
       "                           offer_id  money_gained  money_spent  \n",
       "0  9b98b8c7a33c4b65b9aebfe6a799e6d9           0.0          0.0  \n",
       "1  0b1e1539f2cc45b7b9fa7c272da2e1d7           0.0          0.0  \n",
       "2  2906b810c7d4411798c6938adc9daaa5           0.0          0.0  \n",
       "3  fafdcd668e3743c1bb461111dcafc2a4           0.0          0.0  \n",
       "4  4d5c57ea9a6940dd891ad53e9dbe8da0           0.0          0.0  "
      ]
     },
     "execution_count": 22,
     "metadata": {},
     "output_type": "execute_result"
    }
   ],
   "source": [
    "cleaned_transcript.head()"
   ]
  },
  {
   "cell_type": "code",
   "execution_count": 68,
   "metadata": {},
   "outputs": [
    {
     "name": "stdout",
     "output_type": "stream",
     "text": [
      "<class 'pandas.core.frame.DataFrame'>\n",
      "RangeIndex: 306534 entries, 0 to 306533\n",
      "Data columns (total 6 columns):\n",
      "customer_id     306534 non-null object\n",
      "event           306534 non-null object\n",
      "time            306534 non-null int64\n",
      "offer_id        306534 non-null object\n",
      "money_gained    306534 non-null float64\n",
      "money_spent     306534 non-null float64\n",
      "dtypes: float64(2), int64(1), object(3)\n",
      "memory usage: 14.0+ MB\n"
     ]
    }
   ],
   "source": [
    "cleaned_transcript.info()"
   ]
  },
  {
   "cell_type": "markdown",
   "metadata": {},
   "source": [
    "# iii) Exploratory Data Analysis (EDA)"
   ]
  },
  {
   "cell_type": "markdown",
   "metadata": {},
   "source": [
    "## Merging data frames for EDA"
   ]
  },
  {
   "cell_type": "code",
   "execution_count": 23,
   "metadata": {},
   "outputs": [],
   "source": [
    "def merge_data_info(portfolio,profile,transcript):\n",
    "    \"\"\"\n",
    "    Merge cleaned data frames for EDA\n",
    "       \n",
    "    Parameters\n",
    "    ---------- \n",
    "    portfolio : cleaned portfolio data frame\n",
    "    profile : cleaned profile data frame\n",
    "    transcript : cleaned transcript data frame\n",
    "      \n",
    "    Returns\n",
    "    -------\n",
    "    merged_df: merged data frame\n",
    "    \n",
    "    \"\"\"\n",
    "    \n",
    "    merged_df = pd.merge(portfolio, transcript, on='offer_id')\n",
    "    merged_df = pd.merge(merged_df, profile, on='customer_id')\n",
    "    \n",
    "    return merged_df"
   ]
  },
  {
   "cell_type": "code",
   "execution_count": 26,
   "metadata": {},
   "outputs": [],
   "source": [
    "merged_df = merge_data_info(cleaned_portfolio, cleaned_profiles, cleaned_transcript)"
   ]
  },
  {
   "cell_type": "code",
   "execution_count": 27,
   "metadata": {},
   "outputs": [
    {
     "data": {
      "text/html": [
       "<div>\n",
       "<style scoped>\n",
       "    .dataframe tbody tr th:only-of-type {\n",
       "        vertical-align: middle;\n",
       "    }\n",
       "\n",
       "    .dataframe tbody tr th {\n",
       "        vertical-align: top;\n",
       "    }\n",
       "\n",
       "    .dataframe thead th {\n",
       "        text-align: right;\n",
       "    }\n",
       "</style>\n",
       "<table border=\"1\" class=\"dataframe\">\n",
       "  <thead>\n",
       "    <tr style=\"text-align: right;\">\n",
       "      <th></th>\n",
       "      <th>offer_reward</th>\n",
       "      <th>channels</th>\n",
       "      <th>offer_difficulty</th>\n",
       "      <th>offer_duration</th>\n",
       "      <th>offer_type</th>\n",
       "      <th>offer_id</th>\n",
       "      <th>customer_id</th>\n",
       "      <th>event</th>\n",
       "      <th>time</th>\n",
       "      <th>money_gained</th>\n",
       "      <th>money_spent</th>\n",
       "      <th>gender</th>\n",
       "      <th>became_member_on</th>\n",
       "      <th>customer_income</th>\n",
       "      <th>Age_group</th>\n",
       "    </tr>\n",
       "  </thead>\n",
       "  <tbody>\n",
       "    <tr>\n",
       "      <td>0</td>\n",
       "      <td>10</td>\n",
       "      <td>[email, mobile, social]</td>\n",
       "      <td>10</td>\n",
       "      <td>7</td>\n",
       "      <td>bogo</td>\n",
       "      <td>ae264e3637204a6fb9bb56bc8210ddfd</td>\n",
       "      <td>4b0da7e80e5945209a1fdddfe813dbe0</td>\n",
       "      <td>offer received</td>\n",
       "      <td>0</td>\n",
       "      <td>0.0</td>\n",
       "      <td>0.0</td>\n",
       "      <td>M</td>\n",
       "      <td>20170909</td>\n",
       "      <td>100000.0</td>\n",
       "      <td>61-80</td>\n",
       "    </tr>\n",
       "    <tr>\n",
       "      <td>1</td>\n",
       "      <td>10</td>\n",
       "      <td>[email, mobile, social]</td>\n",
       "      <td>10</td>\n",
       "      <td>7</td>\n",
       "      <td>bogo</td>\n",
       "      <td>ae264e3637204a6fb9bb56bc8210ddfd</td>\n",
       "      <td>4b0da7e80e5945209a1fdddfe813dbe0</td>\n",
       "      <td>offer viewed</td>\n",
       "      <td>102</td>\n",
       "      <td>0.0</td>\n",
       "      <td>0.0</td>\n",
       "      <td>M</td>\n",
       "      <td>20170909</td>\n",
       "      <td>100000.0</td>\n",
       "      <td>61-80</td>\n",
       "    </tr>\n",
       "    <tr>\n",
       "      <td>2</td>\n",
       "      <td>10</td>\n",
       "      <td>[email, mobile, social]</td>\n",
       "      <td>10</td>\n",
       "      <td>7</td>\n",
       "      <td>bogo</td>\n",
       "      <td>ae264e3637204a6fb9bb56bc8210ddfd</td>\n",
       "      <td>4b0da7e80e5945209a1fdddfe813dbe0</td>\n",
       "      <td>offer received</td>\n",
       "      <td>504</td>\n",
       "      <td>0.0</td>\n",
       "      <td>0.0</td>\n",
       "      <td>M</td>\n",
       "      <td>20170909</td>\n",
       "      <td>100000.0</td>\n",
       "      <td>61-80</td>\n",
       "    </tr>\n",
       "    <tr>\n",
       "      <td>3</td>\n",
       "      <td>10</td>\n",
       "      <td>[email, mobile, social]</td>\n",
       "      <td>10</td>\n",
       "      <td>7</td>\n",
       "      <td>bogo</td>\n",
       "      <td>ae264e3637204a6fb9bb56bc8210ddfd</td>\n",
       "      <td>4b0da7e80e5945209a1fdddfe813dbe0</td>\n",
       "      <td>offer viewed</td>\n",
       "      <td>510</td>\n",
       "      <td>0.0</td>\n",
       "      <td>0.0</td>\n",
       "      <td>M</td>\n",
       "      <td>20170909</td>\n",
       "      <td>100000.0</td>\n",
       "      <td>61-80</td>\n",
       "    </tr>\n",
       "    <tr>\n",
       "      <td>4</td>\n",
       "      <td>10</td>\n",
       "      <td>[email, mobile, social]</td>\n",
       "      <td>10</td>\n",
       "      <td>7</td>\n",
       "      <td>bogo</td>\n",
       "      <td>ae264e3637204a6fb9bb56bc8210ddfd</td>\n",
       "      <td>4b0da7e80e5945209a1fdddfe813dbe0</td>\n",
       "      <td>offer completed</td>\n",
       "      <td>510</td>\n",
       "      <td>10.0</td>\n",
       "      <td>0.0</td>\n",
       "      <td>M</td>\n",
       "      <td>20170909</td>\n",
       "      <td>100000.0</td>\n",
       "      <td>61-80</td>\n",
       "    </tr>\n",
       "  </tbody>\n",
       "</table>\n",
       "</div>"
      ],
      "text/plain": [
       "   offer_reward                 channels  offer_difficulty  offer_duration  \\\n",
       "0            10  [email, mobile, social]                10               7   \n",
       "1            10  [email, mobile, social]                10               7   \n",
       "2            10  [email, mobile, social]                10               7   \n",
       "3            10  [email, mobile, social]                10               7   \n",
       "4            10  [email, mobile, social]                10               7   \n",
       "\n",
       "  offer_type                          offer_id  \\\n",
       "0       bogo  ae264e3637204a6fb9bb56bc8210ddfd   \n",
       "1       bogo  ae264e3637204a6fb9bb56bc8210ddfd   \n",
       "2       bogo  ae264e3637204a6fb9bb56bc8210ddfd   \n",
       "3       bogo  ae264e3637204a6fb9bb56bc8210ddfd   \n",
       "4       bogo  ae264e3637204a6fb9bb56bc8210ddfd   \n",
       "\n",
       "                        customer_id            event  time  money_gained  \\\n",
       "0  4b0da7e80e5945209a1fdddfe813dbe0   offer received     0           0.0   \n",
       "1  4b0da7e80e5945209a1fdddfe813dbe0     offer viewed   102           0.0   \n",
       "2  4b0da7e80e5945209a1fdddfe813dbe0   offer received   504           0.0   \n",
       "3  4b0da7e80e5945209a1fdddfe813dbe0     offer viewed   510           0.0   \n",
       "4  4b0da7e80e5945209a1fdddfe813dbe0  offer completed   510          10.0   \n",
       "\n",
       "   money_spent gender  became_member_on  customer_income Age_group  \n",
       "0          0.0      M          20170909         100000.0     61-80  \n",
       "1          0.0      M          20170909         100000.0     61-80  \n",
       "2          0.0      M          20170909         100000.0     61-80  \n",
       "3          0.0      M          20170909         100000.0     61-80  \n",
       "4          0.0      M          20170909         100000.0     61-80  "
      ]
     },
     "execution_count": 27,
     "metadata": {},
     "output_type": "execute_result"
    }
   ],
   "source": [
    "merged_df.head()"
   ]
  },
  {
   "cell_type": "markdown",
   "metadata": {},
   "source": [
    "### The final combined data frame is ready for EDA. Let us analyze this data to find its representations & characteristics."
   ]
  },
  {
   "cell_type": "code",
   "execution_count": 74,
   "metadata": {},
   "outputs": [
    {
     "data": {
      "text/html": [
       "<div>\n",
       "<style scoped>\n",
       "    .dataframe tbody tr th:only-of-type {\n",
       "        vertical-align: middle;\n",
       "    }\n",
       "\n",
       "    .dataframe tbody tr th {\n",
       "        vertical-align: top;\n",
       "    }\n",
       "\n",
       "    .dataframe thead th {\n",
       "        text-align: right;\n",
       "    }\n",
       "</style>\n",
       "<table border=\"1\" class=\"dataframe\">\n",
       "  <thead>\n",
       "    <tr style=\"text-align: right;\">\n",
       "      <th></th>\n",
       "      <th>offer_reward</th>\n",
       "      <th>channels</th>\n",
       "      <th>offer_difficulty</th>\n",
       "      <th>offer_duration</th>\n",
       "      <th>offer_type</th>\n",
       "      <th>offer_id</th>\n",
       "      <th>customer_id</th>\n",
       "      <th>event</th>\n",
       "      <th>time</th>\n",
       "      <th>money_gained</th>\n",
       "      <th>money_spent</th>\n",
       "      <th>gender</th>\n",
       "      <th>became_member_on</th>\n",
       "      <th>customer_income</th>\n",
       "      <th>Age_group</th>\n",
       "    </tr>\n",
       "  </thead>\n",
       "  <tbody>\n",
       "    <tr>\n",
       "      <td>0</td>\n",
       "      <td>10</td>\n",
       "      <td>[email, mobile, social]</td>\n",
       "      <td>10</td>\n",
       "      <td>7</td>\n",
       "      <td>bogo</td>\n",
       "      <td>ae264e3637204a6fb9bb56bc8210ddfd</td>\n",
       "      <td>4b0da7e80e5945209a1fdddfe813dbe0</td>\n",
       "      <td>offer received</td>\n",
       "      <td>0</td>\n",
       "      <td>0.0</td>\n",
       "      <td>0.0</td>\n",
       "      <td>M</td>\n",
       "      <td>20170909</td>\n",
       "      <td>100000.0</td>\n",
       "      <td>61-80</td>\n",
       "    </tr>\n",
       "    <tr>\n",
       "      <td>1</td>\n",
       "      <td>10</td>\n",
       "      <td>[email, mobile, social]</td>\n",
       "      <td>10</td>\n",
       "      <td>7</td>\n",
       "      <td>bogo</td>\n",
       "      <td>ae264e3637204a6fb9bb56bc8210ddfd</td>\n",
       "      <td>4b0da7e80e5945209a1fdddfe813dbe0</td>\n",
       "      <td>offer viewed</td>\n",
       "      <td>102</td>\n",
       "      <td>0.0</td>\n",
       "      <td>0.0</td>\n",
       "      <td>M</td>\n",
       "      <td>20170909</td>\n",
       "      <td>100000.0</td>\n",
       "      <td>61-80</td>\n",
       "    </tr>\n",
       "    <tr>\n",
       "      <td>2</td>\n",
       "      <td>10</td>\n",
       "      <td>[email, mobile, social]</td>\n",
       "      <td>10</td>\n",
       "      <td>7</td>\n",
       "      <td>bogo</td>\n",
       "      <td>ae264e3637204a6fb9bb56bc8210ddfd</td>\n",
       "      <td>4b0da7e80e5945209a1fdddfe813dbe0</td>\n",
       "      <td>offer received</td>\n",
       "      <td>504</td>\n",
       "      <td>0.0</td>\n",
       "      <td>0.0</td>\n",
       "      <td>M</td>\n",
       "      <td>20170909</td>\n",
       "      <td>100000.0</td>\n",
       "      <td>61-80</td>\n",
       "    </tr>\n",
       "    <tr>\n",
       "      <td>3</td>\n",
       "      <td>10</td>\n",
       "      <td>[email, mobile, social]</td>\n",
       "      <td>10</td>\n",
       "      <td>7</td>\n",
       "      <td>bogo</td>\n",
       "      <td>ae264e3637204a6fb9bb56bc8210ddfd</td>\n",
       "      <td>4b0da7e80e5945209a1fdddfe813dbe0</td>\n",
       "      <td>offer viewed</td>\n",
       "      <td>510</td>\n",
       "      <td>0.0</td>\n",
       "      <td>0.0</td>\n",
       "      <td>M</td>\n",
       "      <td>20170909</td>\n",
       "      <td>100000.0</td>\n",
       "      <td>61-80</td>\n",
       "    </tr>\n",
       "    <tr>\n",
       "      <td>4</td>\n",
       "      <td>10</td>\n",
       "      <td>[email, mobile, social]</td>\n",
       "      <td>10</td>\n",
       "      <td>7</td>\n",
       "      <td>bogo</td>\n",
       "      <td>ae264e3637204a6fb9bb56bc8210ddfd</td>\n",
       "      <td>4b0da7e80e5945209a1fdddfe813dbe0</td>\n",
       "      <td>offer completed</td>\n",
       "      <td>510</td>\n",
       "      <td>10.0</td>\n",
       "      <td>0.0</td>\n",
       "      <td>M</td>\n",
       "      <td>20170909</td>\n",
       "      <td>100000.0</td>\n",
       "      <td>61-80</td>\n",
       "    </tr>\n",
       "    <tr>\n",
       "      <td>...</td>\n",
       "      <td>...</td>\n",
       "      <td>...</td>\n",
       "      <td>...</td>\n",
       "      <td>...</td>\n",
       "      <td>...</td>\n",
       "      <td>...</td>\n",
       "      <td>...</td>\n",
       "      <td>...</td>\n",
       "      <td>...</td>\n",
       "      <td>...</td>\n",
       "      <td>...</td>\n",
       "      <td>...</td>\n",
       "      <td>...</td>\n",
       "      <td>...</td>\n",
       "      <td>...</td>\n",
       "    </tr>\n",
       "    <tr>\n",
       "      <td>157498</td>\n",
       "      <td>2</td>\n",
       "      <td>[web, email, mobile]</td>\n",
       "      <td>10</td>\n",
       "      <td>7</td>\n",
       "      <td>discount</td>\n",
       "      <td>2906b810c7d4411798c6938adc9daaa5</td>\n",
       "      <td>12f7dc81c39a4db59177faaa1769a0dc</td>\n",
       "      <td>offer received</td>\n",
       "      <td>504</td>\n",
       "      <td>0.0</td>\n",
       "      <td>0.0</td>\n",
       "      <td>M</td>\n",
       "      <td>20170704</td>\n",
       "      <td>45000.0</td>\n",
       "      <td>20-45</td>\n",
       "    </tr>\n",
       "    <tr>\n",
       "      <td>157499</td>\n",
       "      <td>2</td>\n",
       "      <td>[web, email, mobile]</td>\n",
       "      <td>10</td>\n",
       "      <td>7</td>\n",
       "      <td>discount</td>\n",
       "      <td>2906b810c7d4411798c6938adc9daaa5</td>\n",
       "      <td>12f7dc81c39a4db59177faaa1769a0dc</td>\n",
       "      <td>offer viewed</td>\n",
       "      <td>504</td>\n",
       "      <td>0.0</td>\n",
       "      <td>0.0</td>\n",
       "      <td>M</td>\n",
       "      <td>20170704</td>\n",
       "      <td>45000.0</td>\n",
       "      <td>20-45</td>\n",
       "    </tr>\n",
       "    <tr>\n",
       "      <td>157500</td>\n",
       "      <td>2</td>\n",
       "      <td>[web, email, mobile]</td>\n",
       "      <td>10</td>\n",
       "      <td>7</td>\n",
       "      <td>discount</td>\n",
       "      <td>2906b810c7d4411798c6938adc9daaa5</td>\n",
       "      <td>12f7dc81c39a4db59177faaa1769a0dc</td>\n",
       "      <td>offer completed</td>\n",
       "      <td>630</td>\n",
       "      <td>2.0</td>\n",
       "      <td>0.0</td>\n",
       "      <td>M</td>\n",
       "      <td>20170704</td>\n",
       "      <td>45000.0</td>\n",
       "      <td>20-45</td>\n",
       "    </tr>\n",
       "    <tr>\n",
       "      <td>157501</td>\n",
       "      <td>2</td>\n",
       "      <td>[web, email, mobile]</td>\n",
       "      <td>10</td>\n",
       "      <td>7</td>\n",
       "      <td>discount</td>\n",
       "      <td>2906b810c7d4411798c6938adc9daaa5</td>\n",
       "      <td>3cc622f76e464bc1809a71e871579d6c</td>\n",
       "      <td>offer received</td>\n",
       "      <td>576</td>\n",
       "      <td>0.0</td>\n",
       "      <td>0.0</td>\n",
       "      <td>M</td>\n",
       "      <td>20170820</td>\n",
       "      <td>44000.0</td>\n",
       "      <td>46-60</td>\n",
       "    </tr>\n",
       "    <tr>\n",
       "      <td>157502</td>\n",
       "      <td>2</td>\n",
       "      <td>[web, email, mobile]</td>\n",
       "      <td>10</td>\n",
       "      <td>7</td>\n",
       "      <td>discount</td>\n",
       "      <td>2906b810c7d4411798c6938adc9daaa5</td>\n",
       "      <td>3cc622f76e464bc1809a71e871579d6c</td>\n",
       "      <td>offer completed</td>\n",
       "      <td>630</td>\n",
       "      <td>2.0</td>\n",
       "      <td>0.0</td>\n",
       "      <td>M</td>\n",
       "      <td>20170820</td>\n",
       "      <td>44000.0</td>\n",
       "      <td>46-60</td>\n",
       "    </tr>\n",
       "  </tbody>\n",
       "</table>\n",
       "<p>157503 rows × 15 columns</p>\n",
       "</div>"
      ],
      "text/plain": [
       "        offer_reward                 channels  offer_difficulty  \\\n",
       "0                 10  [email, mobile, social]                10   \n",
       "1                 10  [email, mobile, social]                10   \n",
       "2                 10  [email, mobile, social]                10   \n",
       "3                 10  [email, mobile, social]                10   \n",
       "4                 10  [email, mobile, social]                10   \n",
       "...              ...                      ...               ...   \n",
       "157498             2     [web, email, mobile]                10   \n",
       "157499             2     [web, email, mobile]                10   \n",
       "157500             2     [web, email, mobile]                10   \n",
       "157501             2     [web, email, mobile]                10   \n",
       "157502             2     [web, email, mobile]                10   \n",
       "\n",
       "        offer_duration offer_type                          offer_id  \\\n",
       "0                    7       bogo  ae264e3637204a6fb9bb56bc8210ddfd   \n",
       "1                    7       bogo  ae264e3637204a6fb9bb56bc8210ddfd   \n",
       "2                    7       bogo  ae264e3637204a6fb9bb56bc8210ddfd   \n",
       "3                    7       bogo  ae264e3637204a6fb9bb56bc8210ddfd   \n",
       "4                    7       bogo  ae264e3637204a6fb9bb56bc8210ddfd   \n",
       "...                ...        ...                               ...   \n",
       "157498               7   discount  2906b810c7d4411798c6938adc9daaa5   \n",
       "157499               7   discount  2906b810c7d4411798c6938adc9daaa5   \n",
       "157500               7   discount  2906b810c7d4411798c6938adc9daaa5   \n",
       "157501               7   discount  2906b810c7d4411798c6938adc9daaa5   \n",
       "157502               7   discount  2906b810c7d4411798c6938adc9daaa5   \n",
       "\n",
       "                             customer_id            event  time  money_gained  \\\n",
       "0       4b0da7e80e5945209a1fdddfe813dbe0   offer received     0           0.0   \n",
       "1       4b0da7e80e5945209a1fdddfe813dbe0     offer viewed   102           0.0   \n",
       "2       4b0da7e80e5945209a1fdddfe813dbe0   offer received   504           0.0   \n",
       "3       4b0da7e80e5945209a1fdddfe813dbe0     offer viewed   510           0.0   \n",
       "4       4b0da7e80e5945209a1fdddfe813dbe0  offer completed   510          10.0   \n",
       "...                                  ...              ...   ...           ...   \n",
       "157498  12f7dc81c39a4db59177faaa1769a0dc   offer received   504           0.0   \n",
       "157499  12f7dc81c39a4db59177faaa1769a0dc     offer viewed   504           0.0   \n",
       "157500  12f7dc81c39a4db59177faaa1769a0dc  offer completed   630           2.0   \n",
       "157501  3cc622f76e464bc1809a71e871579d6c   offer received   576           0.0   \n",
       "157502  3cc622f76e464bc1809a71e871579d6c  offer completed   630           2.0   \n",
       "\n",
       "        money_spent gender  became_member_on  customer_income Age_group  \n",
       "0               0.0      M          20170909         100000.0     61-80  \n",
       "1               0.0      M          20170909         100000.0     61-80  \n",
       "2               0.0      M          20170909         100000.0     61-80  \n",
       "3               0.0      M          20170909         100000.0     61-80  \n",
       "4               0.0      M          20170909         100000.0     61-80  \n",
       "...             ...    ...               ...              ...       ...  \n",
       "157498          0.0      M          20170704          45000.0     20-45  \n",
       "157499          0.0      M          20170704          45000.0     20-45  \n",
       "157500          0.0      M          20170704          45000.0     20-45  \n",
       "157501          0.0      M          20170820          44000.0     46-60  \n",
       "157502          0.0      M          20170820          44000.0     46-60  \n",
       "\n",
       "[157503 rows x 15 columns]"
      ]
     },
     "execution_count": 74,
     "metadata": {},
     "output_type": "execute_result"
    }
   ],
   "source": [
    "merged_df"
   ]
  },
  {
   "cell_type": "markdown",
   "metadata": {},
   "source": [
    "### 1. Average income of customers using the app"
   ]
  },
  {
   "cell_type": "code",
   "execution_count": 75,
   "metadata": {},
   "outputs": [
    {
     "data": {
      "text/plain": [
       "65924.49109976116"
      ]
     },
     "execution_count": 75,
     "metadata": {},
     "output_type": "execute_result"
    }
   ],
   "source": [
    "merged_df['customer_income'].mean()"
   ]
  },
  {
   "cell_type": "code",
   "execution_count": 76,
   "metadata": {},
   "outputs": [
    {
     "data": {
      "image/png": "[encoded data removed]",
      "text/plain": [
       "<Figure size 432x288 with 1 Axes>"
      ]
     },
     "metadata": {},
     "output_type": "display_data"
    }
   ],
   "source": [
    "sns.distplot(merged_df['customer_income'], bins=50, hist_kws={'alpha': 0.4});"
   ]
  },
  {
   "cell_type": "markdown",
   "metadata": {},
   "source": [
    "### 2. Most used offer by the customers"
   ]
  },
  {
   "cell_type": "code",
   "execution_count": 77,
   "metadata": {},
   "outputs": [
    {
     "data": {
      "text/plain": [
       "<matplotlib.axes._subplots.AxesSubplot at 0x20523b467c8>"
      ]
     },
     "execution_count": 77,
     "metadata": {},
     "output_type": "execute_result"
    },
    {
     "data": {
      "image/png": "[encoded data removed]",
      "text/plain": [
       "<Figure size 432x288 with 1 Axes>"
      ]
     },
     "metadata": {},
     "output_type": "display_data"
    }
   ],
   "source": [
    "merged_df['offer_type'].value_counts().plot.barh(title=' Distribution of offer types')"
   ]
  },
  {
   "cell_type": "markdown",
   "metadata": {},
   "source": [
    "BOGO and discount offers have nearly the same distributions"
   ]
  },
  {
   "cell_type": "markdown",
   "metadata": {},
   "source": [
    "### 3. Age distribution of customers"
   ]
  },
  {
   "cell_type": "code",
   "execution_count": 78,
   "metadata": {},
   "outputs": [
    {
     "data": {
      "text/plain": [
       "<matplotlib.axes._subplots.AxesSubplot at 0x20523aa2e48>"
      ]
     },
     "execution_count": 78,
     "metadata": {},
     "output_type": "execute_result"
    },
    {
     "data": {
      "image/png": "[encoded data removed]",
      "text/plain": [
       "<Figure size 432x288 with 1 Axes>"
      ]
     },
     "metadata": {},
     "output_type": "display_data"
    }
   ],
   "source": [
    "merged_df['Age_group'].value_counts().plot.barh(title=' Distribution of age groups')"
   ]
  },
  {
   "cell_type": "markdown",
   "metadata": {},
   "source": [
    "It is quite surprising to see that customers with age 46-60 use Starbucks application the most, those with age 61-80 are on the second. One would usually think that customers between age 20-45 use app the most, but this is not the case here."
   ]
  },
  {
   "cell_type": "markdown",
   "metadata": {},
   "source": [
    "### 4. Actions to the offers that customers received"
   ]
  },
  {
   "cell_type": "code",
   "execution_count": 79,
   "metadata": {
    "scrolled": true
   },
   "outputs": [
    {
     "data": {
      "text/plain": [
       "<matplotlib.axes._subplots.AxesSubplot at 0x20523429808>"
      ]
     },
     "execution_count": 79,
     "metadata": {},
     "output_type": "execute_result"
    },
    {
     "data": {
      "image/png": "[encoded data removed]",
      "text/plain": [
       "<Figure size 432x288 with 1 Axes>"
      ]
     },
     "metadata": {},
     "output_type": "display_data"
    }
   ],
   "source": [
    "merged_df['event'].value_counts().plot.barh(title=' Distribution of offers')"
   ]
  },
  {
   "cell_type": "markdown",
   "metadata": {},
   "source": [
    "This implies most of the customers don't pay attention to the offer, don't even have a look at it. Also, there are more number of customers who just view & ignore the offer than the one's who actually complete the offer."
   ]
  },
  {
   "cell_type": "markdown",
   "metadata": {},
   "source": [
    "For a better analysis, let us analyze the data based on gender."
   ]
  },
  {
   "cell_type": "markdown",
   "metadata": {},
   "source": [
    "### 5. Distribution of males & females"
   ]
  },
  {
   "cell_type": "code",
   "execution_count": 81,
   "metadata": {},
   "outputs": [],
   "source": [
    "plot_genders = merged_df[merged_df['gender'] != 'O']"
   ]
  },
  {
   "cell_type": "code",
   "execution_count": 82,
   "metadata": {},
   "outputs": [
    {
     "data": {
      "text/plain": [
       "<matplotlib.axes._subplots.AxesSubplot at 0x205233a59c8>"
      ]
     },
     "execution_count": 82,
     "metadata": {},
     "output_type": "execute_result"
    },
    {
     "data": {
      "image/png": "[encoded data removed]",
      "text/plain": [
       "<Figure size 360x360 with 1 Axes>"
      ]
     },
     "metadata": {},
     "output_type": "display_data"
    }
   ],
   "source": [
    "plot_genders.gender.value_counts().plot(kind='pie' , figsize=(5, 5), autopct='%1.1f%%')"
   ]
  },
  {
   "cell_type": "markdown",
   "metadata": {},
   "source": [
    "### 6. Age group of males & females"
   ]
  },
  {
   "cell_type": "code",
   "execution_count": 83,
   "metadata": {},
   "outputs": [
    {
     "data": {
      "text/plain": [
       "<matplotlib.legend.Legend at 0x2052327e548>"
      ]
     },
     "execution_count": 83,
     "metadata": {},
     "output_type": "execute_result"
    },
    {
     "data": {
      "image/png": "[encoded data removed]",
      "text/plain": [
       "<Figure size 1080x360 with 1 Axes>"
      ]
     },
     "metadata": {},
     "output_type": "display_data"
    }
   ],
   "source": [
    "plt.figure(figsize=(15, 5))\n",
    "sns.countplot(x= \"Age_group\", hue= \"gender\", data=plot_gender)\n",
    "sns.set(style=\"darkgrid\")\n",
    "plt.title('Gender distribution in age groups')\n",
    "plt.ylabel('Count')\n",
    "plt.xlabel('Age Group')\n",
    "plt.legend(title='Gender')"
   ]
  },
  {
   "cell_type": "markdown",
   "metadata": {},
   "source": [
    "The male customers are more than the female ones in each age group."
   ]
  },
  {
   "cell_type": "markdown",
   "metadata": {},
   "source": [
    "### 7. Gender distribution in each offer type"
   ]
  },
  {
   "cell_type": "code",
   "execution_count": 84,
   "metadata": {},
   "outputs": [
    {
     "data": {
      "text/plain": [
       "<matplotlib.legend.Legend at 0x205241e6148>"
      ]
     },
     "execution_count": 84,
     "metadata": {},
     "output_type": "execute_result"
    },
    {
     "data": {
      "image/png": "[encoded data removed]",
      "text/plain": [
       "<Figure size 1080x360 with 1 Axes>"
      ]
     },
     "metadata": {},
     "output_type": "display_data"
    }
   ],
   "source": [
    "plt.figure(figsize=(15, 5))\n",
    "sns.countplot(x= \"offer_type\", hue= \"gender\", data=plot_gender)\n",
    "sns.set(style=\"darkgrid\")\n",
    "plt.title('Gender distribution in offer types')\n",
    "plt.ylabel('Count')\n",
    "plt.xlabel('Offer Type')\n",
    "plt.legend(title='Gender')"
   ]
  },
  {
   "cell_type": "markdown",
   "metadata": {},
   "source": [
    "### 8. Actions to the offers that males & females received"
   ]
  },
  {
   "cell_type": "code",
   "execution_count": 85,
   "metadata": {},
   "outputs": [
    {
     "data": {
      "text/plain": [
       "<matplotlib.legend.Legend at 0x205240d5b88>"
      ]
     },
     "execution_count": 85,
     "metadata": {},
     "output_type": "execute_result"
    },
    {
     "data": {
      "image/png": "[encoded data removed]",
      "text/plain": [
       "<Figure size 1080x360 with 1 Axes>"
      ]
     },
     "metadata": {},
     "output_type": "display_data"
    }
   ],
   "source": [
    "plt.figure(figsize=(15, 5))\n",
    "sns.countplot(x= \"event\", hue= \"gender\", data=plot_gender)\n",
    "sns.set(style=\"darkgrid\")\n",
    "plt.title('Gender distribution in events')\n",
    "plt.ylabel('Count')\n",
    "plt.xlabel('Event')\n",
    "plt.legend(title='Gender')"
   ]
  },
  {
   "cell_type": "markdown",
   "metadata": {},
   "source": [
    "### 9. Actions to the offers in each offer type"
   ]
  },
  {
   "cell_type": "code",
   "execution_count": 86,
   "metadata": {},
   "outputs": [
    {
     "data": {
      "text/plain": [
       "<matplotlib.legend.Legend at 0x20523ce8c88>"
      ]
     },
     "execution_count": 86,
     "metadata": {},
     "output_type": "execute_result"
    },
    {
     "data": {
      "image/png": "[encoded data removed]",
      "text/plain": [
       "<Figure size 1080x360 with 1 Axes>"
      ]
     },
     "metadata": {},
     "output_type": "display_data"
    }
   ],
   "source": [
    "plt.figure(figsize=(15, 5))\n",
    "sns.countplot(x= \"event\", hue= \"offer_type\", data=plot_gender)\n",
    "sns.set(style=\"darkgrid\")\n",
    "plt.title('Distribution of offer types in events')\n",
    "plt.ylabel('Count')\n",
    "plt.xlabel('Event')\n",
    "plt.legend(title='Offer Type')"
   ]
  },
  {
   "cell_type": "markdown",
   "metadata": {},
   "source": [
    "In general, most people take the discount offer."
   ]
  },
  {
   "cell_type": "markdown",
   "metadata": {},
   "source": [
    "### 10. Actions to the offers in each age group"
   ]
  },
  {
   "cell_type": "code",
   "execution_count": 87,
   "metadata": {},
   "outputs": [
    {
     "data": {
      "text/plain": [
       "<matplotlib.legend.Legend at 0x20523ed8b88>"
      ]
     },
     "execution_count": 87,
     "metadata": {},
     "output_type": "execute_result"
    },
    {
     "data": {
      "image/png": "[encoded data removed]",
      "text/plain": [
       "<Figure size 1080x360 with 1 Axes>"
      ]
     },
     "metadata": {},
     "output_type": "display_data"
    }
   ],
   "source": [
    "plt.figure(figsize=(15, 5))\n",
    "sns.countplot(x= \"Age_group\", hue= \"event\", data=plot_gender)\n",
    "sns.set(style=\"darkgrid\")\n",
    "plt.title('Age distribution in events')\n",
    "plt.ylabel('Count')\n",
    "plt.xlabel('Age Group')\n",
    "plt.legend(title='Event')"
   ]
  },
  {
   "cell_type": "markdown",
   "metadata": {},
   "source": [
    "# iv) Build a Machine Learning model to predict response of a customer to an offer"
   ]
  },
  {
   "cell_type": "markdown",
   "metadata": {},
   "source": [
    "Before building a model, we'll have to clean & prepare the data to fit into the model."
   ]
  },
  {
   "cell_type": "markdown",
   "metadata": {},
   "source": [
    "## 1. Data Preparation and Cleaning II"
   ]
  },
  {
   "cell_type": "code",
   "execution_count": 39,
   "metadata": {},
   "outputs": [
    {
     "data": {
      "text/html": [
       "<div>\n",
       "<style scoped>\n",
       "    .dataframe tbody tr th:only-of-type {\n",
       "        vertical-align: middle;\n",
       "    }\n",
       "\n",
       "    .dataframe tbody tr th {\n",
       "        vertical-align: top;\n",
       "    }\n",
       "\n",
       "    .dataframe thead th {\n",
       "        text-align: right;\n",
       "    }\n",
       "</style>\n",
       "<table border=\"1\" class=\"dataframe\">\n",
       "  <thead>\n",
       "    <tr style=\"text-align: right;\">\n",
       "      <th></th>\n",
       "      <th>offer_reward</th>\n",
       "      <th>channels</th>\n",
       "      <th>offer_difficulty</th>\n",
       "      <th>offer_duration</th>\n",
       "      <th>offer_type</th>\n",
       "      <th>offer_id</th>\n",
       "      <th>customer_id</th>\n",
       "      <th>event</th>\n",
       "      <th>time</th>\n",
       "      <th>money_gained</th>\n",
       "      <th>money_spent</th>\n",
       "      <th>gender</th>\n",
       "      <th>became_member_on</th>\n",
       "      <th>customer_income</th>\n",
       "      <th>Age_group</th>\n",
       "    </tr>\n",
       "  </thead>\n",
       "  <tbody>\n",
       "    <tr>\n",
       "      <td>0</td>\n",
       "      <td>10</td>\n",
       "      <td>[email, mobile, social]</td>\n",
       "      <td>10</td>\n",
       "      <td>7</td>\n",
       "      <td>bogo</td>\n",
       "      <td>ae264e3637204a6fb9bb56bc8210ddfd</td>\n",
       "      <td>4b0da7e80e5945209a1fdddfe813dbe0</td>\n",
       "      <td>offer received</td>\n",
       "      <td>0</td>\n",
       "      <td>0.0</td>\n",
       "      <td>0.0</td>\n",
       "      <td>M</td>\n",
       "      <td>20170909</td>\n",
       "      <td>100000.0</td>\n",
       "      <td>61-80</td>\n",
       "    </tr>\n",
       "    <tr>\n",
       "      <td>1</td>\n",
       "      <td>10</td>\n",
       "      <td>[email, mobile, social]</td>\n",
       "      <td>10</td>\n",
       "      <td>7</td>\n",
       "      <td>bogo</td>\n",
       "      <td>ae264e3637204a6fb9bb56bc8210ddfd</td>\n",
       "      <td>4b0da7e80e5945209a1fdddfe813dbe0</td>\n",
       "      <td>offer viewed</td>\n",
       "      <td>102</td>\n",
       "      <td>0.0</td>\n",
       "      <td>0.0</td>\n",
       "      <td>M</td>\n",
       "      <td>20170909</td>\n",
       "      <td>100000.0</td>\n",
       "      <td>61-80</td>\n",
       "    </tr>\n",
       "    <tr>\n",
       "      <td>2</td>\n",
       "      <td>10</td>\n",
       "      <td>[email, mobile, social]</td>\n",
       "      <td>10</td>\n",
       "      <td>7</td>\n",
       "      <td>bogo</td>\n",
       "      <td>ae264e3637204a6fb9bb56bc8210ddfd</td>\n",
       "      <td>4b0da7e80e5945209a1fdddfe813dbe0</td>\n",
       "      <td>offer received</td>\n",
       "      <td>504</td>\n",
       "      <td>0.0</td>\n",
       "      <td>0.0</td>\n",
       "      <td>M</td>\n",
       "      <td>20170909</td>\n",
       "      <td>100000.0</td>\n",
       "      <td>61-80</td>\n",
       "    </tr>\n",
       "    <tr>\n",
       "      <td>3</td>\n",
       "      <td>10</td>\n",
       "      <td>[email, mobile, social]</td>\n",
       "      <td>10</td>\n",
       "      <td>7</td>\n",
       "      <td>bogo</td>\n",
       "      <td>ae264e3637204a6fb9bb56bc8210ddfd</td>\n",
       "      <td>4b0da7e80e5945209a1fdddfe813dbe0</td>\n",
       "      <td>offer viewed</td>\n",
       "      <td>510</td>\n",
       "      <td>0.0</td>\n",
       "      <td>0.0</td>\n",
       "      <td>M</td>\n",
       "      <td>20170909</td>\n",
       "      <td>100000.0</td>\n",
       "      <td>61-80</td>\n",
       "    </tr>\n",
       "    <tr>\n",
       "      <td>4</td>\n",
       "      <td>10</td>\n",
       "      <td>[email, mobile, social]</td>\n",
       "      <td>10</td>\n",
       "      <td>7</td>\n",
       "      <td>bogo</td>\n",
       "      <td>ae264e3637204a6fb9bb56bc8210ddfd</td>\n",
       "      <td>4b0da7e80e5945209a1fdddfe813dbe0</td>\n",
       "      <td>offer completed</td>\n",
       "      <td>510</td>\n",
       "      <td>10.0</td>\n",
       "      <td>0.0</td>\n",
       "      <td>M</td>\n",
       "      <td>20170909</td>\n",
       "      <td>100000.0</td>\n",
       "      <td>61-80</td>\n",
       "    </tr>\n",
       "  </tbody>\n",
       "</table>\n",
       "</div>"
      ],
      "text/plain": [
       "   offer_reward                 channels  offer_difficulty  offer_duration  \\\n",
       "0            10  [email, mobile, social]                10               7   \n",
       "1            10  [email, mobile, social]                10               7   \n",
       "2            10  [email, mobile, social]                10               7   \n",
       "3            10  [email, mobile, social]                10               7   \n",
       "4            10  [email, mobile, social]                10               7   \n",
       "\n",
       "  offer_type                          offer_id  \\\n",
       "0       bogo  ae264e3637204a6fb9bb56bc8210ddfd   \n",
       "1       bogo  ae264e3637204a6fb9bb56bc8210ddfd   \n",
       "2       bogo  ae264e3637204a6fb9bb56bc8210ddfd   \n",
       "3       bogo  ae264e3637204a6fb9bb56bc8210ddfd   \n",
       "4       bogo  ae264e3637204a6fb9bb56bc8210ddfd   \n",
       "\n",
       "                        customer_id            event  time  money_gained  \\\n",
       "0  4b0da7e80e5945209a1fdddfe813dbe0   offer received     0           0.0   \n",
       "1  4b0da7e80e5945209a1fdddfe813dbe0     offer viewed   102           0.0   \n",
       "2  4b0da7e80e5945209a1fdddfe813dbe0   offer received   504           0.0   \n",
       "3  4b0da7e80e5945209a1fdddfe813dbe0     offer viewed   510           0.0   \n",
       "4  4b0da7e80e5945209a1fdddfe813dbe0  offer completed   510          10.0   \n",
       "\n",
       "   money_spent gender  became_member_on  customer_income Age_group  \n",
       "0          0.0      M          20170909         100000.0     61-80  \n",
       "1          0.0      M          20170909         100000.0     61-80  \n",
       "2          0.0      M          20170909         100000.0     61-80  \n",
       "3          0.0      M          20170909         100000.0     61-80  \n",
       "4          0.0      M          20170909         100000.0     61-80  "
      ]
     },
     "execution_count": 39,
     "metadata": {},
     "output_type": "execute_result"
    }
   ],
   "source": [
    "merged_df.head()"
   ]
  },
  {
   "cell_type": "code",
   "execution_count": 38,
   "metadata": {},
   "outputs": [
    {
     "name": "stdout",
     "output_type": "stream",
     "text": [
      "<class 'pandas.core.frame.DataFrame'>\n",
      "Int64Index: 157503 entries, 0 to 157502\n",
      "Data columns (total 15 columns):\n",
      "offer_reward        157503 non-null int64\n",
      "channels            157503 non-null object\n",
      "offer_difficulty    157503 non-null int64\n",
      "offer_duration      157503 non-null int64\n",
      "offer_type          157503 non-null object\n",
      "offer_id            157503 non-null object\n",
      "customer_id         157503 non-null object\n",
      "event               157503 non-null object\n",
      "time                157503 non-null int64\n",
      "money_gained        157503 non-null float64\n",
      "money_spent         157503 non-null float64\n",
      "gender              157503 non-null object\n",
      "became_member_on    157503 non-null int64\n",
      "customer_income     157503 non-null float64\n",
      "Age_group           157503 non-null object\n",
      "dtypes: float64(3), int64(5), object(7)\n",
      "memory usage: 24.2+ MB\n"
     ]
    }
   ],
   "source": [
    "merged_df.info()"
   ]
  },
  {
   "cell_type": "markdown",
   "metadata": {},
   "source": [
    "#### Tasks\n",
    "1. Encode categorical data such as gender, offer type, channel and age groups.\n",
    "2. Encode the 'event' data to numerical values:\n",
    "    * offer received ---> 1\n",
    "    * offer viewed ---> 2\n",
    "    * offer completed ---> 3\n",
    "3. Encode offer id and customer id.\n",
    "4. Drop column 'became_member_on' and add separate columns for month and year.\n",
    "5. Scale and normalize numerical data."
   ]
  },
  {
   "cell_type": "code",
   "execution_count": 28,
   "metadata": {},
   "outputs": [],
   "source": [
    "def cleaning_final_data_info(df):\n",
    "    \"\"\"\n",
    "    Clean merged data frame for the final data as per tasks 1-5.\n",
    "    \n",
    "    Parameters\n",
    "    ----------\n",
    "    df: input data frame\n",
    "    \n",
    "    Returns\n",
    "    -------\n",
    "    df: cleaned data frame as per tasks\n",
    "       \n",
    "    \"\"\"\n",
    "    #process categorical variables\n",
    "    categorical = ['offer_type', 'gender', 'Age_group']\n",
    "    df = pd.get_dummies(df, columns = categorical)\n",
    "    #process channels column \n",
    "    df = df.drop('channels', 1).join(df.channels.str.join('|').str.get_dummies())\n",
    "    \n",
    "    #process became_member_on column\n",
    "    #change datatype of became_member_on \n",
    "    df['became_member_on'] = df['became_member_on'].apply(lambda x: pd.to_datetime(str(x), format='%Y%m%d'))\n",
    "    #add new columns for month & year\n",
    "    df['month_member'] = df['became_member_on'].apply(lambda x: x.day)\n",
    "    df['year_member'] = df['became_member_on'].apply(lambda x: x.year)\n",
    "    #drop became_member_on column\n",
    "    df.drop('became_member_on',axis=1, inplace=True)    \n",
    "    \n",
    "    #process offer_id column\n",
    "    offerids = df['offer_id'].unique().tolist()\n",
    "    o_mapping = dict( zip(offerids,range(len(offerids))) )\n",
    "    df.replace({'offer_id': o_mapping},inplace=True)\n",
    "    \n",
    "    #process customer_id column\n",
    "    cusids = df['customer_id'].unique().tolist()\n",
    "    c_mapping = dict( zip(cusids,range(len(cusids))) )\n",
    "    df.replace({'customer_id': c_mapping},inplace=True)\n",
    "    \n",
    "    #process numerical variables\n",
    "    #initialize a MinMaxScaler, then apply it to the features\n",
    "    scaler = MinMaxScaler() # default=(0, 1)\n",
    "    numerical = ['customer_income', 'offer_difficulty', 'offer_duration', 'offer_reward', 'time', 'money_gained', 'money_spent']\n",
    "    df[numerical] = scaler.fit_transform(df[numerical])\n",
    "    \n",
    "    #encode 'event' data to numerical values according to task 2\n",
    "    df['event'] = df['event'].map({'offer received':1, 'offer viewed':2, 'offer completed':3})\n",
    "    \n",
    "    return df"
   ]
  },
  {
   "cell_type": "code",
   "execution_count": 36,
   "metadata": {},
   "outputs": [],
   "source": [
    "cleaned_data = cleaning_final_data_info(merged_df)"
   ]
  },
  {
   "cell_type": "code",
   "execution_count": 37,
   "metadata": {},
   "outputs": [
    {
     "data": {
      "text/html": [
       "<div>\n",
       "<style scoped>\n",
       "    .dataframe tbody tr th:only-of-type {\n",
       "        vertical-align: middle;\n",
       "    }\n",
       "\n",
       "    .dataframe tbody tr th {\n",
       "        vertical-align: top;\n",
       "    }\n",
       "\n",
       "    .dataframe thead th {\n",
       "        text-align: right;\n",
       "    }\n",
       "</style>\n",
       "<table border=\"1\" class=\"dataframe\">\n",
       "  <thead>\n",
       "    <tr style=\"text-align: right;\">\n",
       "      <th></th>\n",
       "      <th>offer_reward</th>\n",
       "      <th>offer_difficulty</th>\n",
       "      <th>offer_duration</th>\n",
       "      <th>offer_id</th>\n",
       "      <th>customer_id</th>\n",
       "      <th>event</th>\n",
       "      <th>time</th>\n",
       "      <th>money_gained</th>\n",
       "      <th>money_spent</th>\n",
       "      <th>customer_income</th>\n",
       "      <th>...</th>\n",
       "      <th>Age_group_20-45</th>\n",
       "      <th>Age_group_46-60</th>\n",
       "      <th>Age_group_61-80</th>\n",
       "      <th>Age_group_Under 20</th>\n",
       "      <th>email</th>\n",
       "      <th>mobile</th>\n",
       "      <th>social</th>\n",
       "      <th>web</th>\n",
       "      <th>month_member</th>\n",
       "      <th>year_member</th>\n",
       "    </tr>\n",
       "  </thead>\n",
       "  <tbody>\n",
       "    <tr>\n",
       "      <td>0</td>\n",
       "      <td>1.0</td>\n",
       "      <td>0.5</td>\n",
       "      <td>0.571429</td>\n",
       "      <td>0</td>\n",
       "      <td>0</td>\n",
       "      <td>1</td>\n",
       "      <td>0.000000</td>\n",
       "      <td>0.0</td>\n",
       "      <td>0.0</td>\n",
       "      <td>0.777778</td>\n",
       "      <td>...</td>\n",
       "      <td>0</td>\n",
       "      <td>0</td>\n",
       "      <td>1</td>\n",
       "      <td>0</td>\n",
       "      <td>1</td>\n",
       "      <td>1</td>\n",
       "      <td>1</td>\n",
       "      <td>0</td>\n",
       "      <td>9</td>\n",
       "      <td>2017</td>\n",
       "    </tr>\n",
       "    <tr>\n",
       "      <td>1</td>\n",
       "      <td>1.0</td>\n",
       "      <td>0.5</td>\n",
       "      <td>0.571429</td>\n",
       "      <td>0</td>\n",
       "      <td>0</td>\n",
       "      <td>2</td>\n",
       "      <td>0.142857</td>\n",
       "      <td>0.0</td>\n",
       "      <td>0.0</td>\n",
       "      <td>0.777778</td>\n",
       "      <td>...</td>\n",
       "      <td>0</td>\n",
       "      <td>0</td>\n",
       "      <td>1</td>\n",
       "      <td>0</td>\n",
       "      <td>1</td>\n",
       "      <td>1</td>\n",
       "      <td>1</td>\n",
       "      <td>0</td>\n",
       "      <td>9</td>\n",
       "      <td>2017</td>\n",
       "    </tr>\n",
       "    <tr>\n",
       "      <td>2</td>\n",
       "      <td>1.0</td>\n",
       "      <td>0.5</td>\n",
       "      <td>0.571429</td>\n",
       "      <td>0</td>\n",
       "      <td>0</td>\n",
       "      <td>1</td>\n",
       "      <td>0.705882</td>\n",
       "      <td>0.0</td>\n",
       "      <td>0.0</td>\n",
       "      <td>0.777778</td>\n",
       "      <td>...</td>\n",
       "      <td>0</td>\n",
       "      <td>0</td>\n",
       "      <td>1</td>\n",
       "      <td>0</td>\n",
       "      <td>1</td>\n",
       "      <td>1</td>\n",
       "      <td>1</td>\n",
       "      <td>0</td>\n",
       "      <td>9</td>\n",
       "      <td>2017</td>\n",
       "    </tr>\n",
       "    <tr>\n",
       "      <td>3</td>\n",
       "      <td>1.0</td>\n",
       "      <td>0.5</td>\n",
       "      <td>0.571429</td>\n",
       "      <td>0</td>\n",
       "      <td>0</td>\n",
       "      <td>2</td>\n",
       "      <td>0.714286</td>\n",
       "      <td>0.0</td>\n",
       "      <td>0.0</td>\n",
       "      <td>0.777778</td>\n",
       "      <td>...</td>\n",
       "      <td>0</td>\n",
       "      <td>0</td>\n",
       "      <td>1</td>\n",
       "      <td>0</td>\n",
       "      <td>1</td>\n",
       "      <td>1</td>\n",
       "      <td>1</td>\n",
       "      <td>0</td>\n",
       "      <td>9</td>\n",
       "      <td>2017</td>\n",
       "    </tr>\n",
       "    <tr>\n",
       "      <td>4</td>\n",
       "      <td>1.0</td>\n",
       "      <td>0.5</td>\n",
       "      <td>0.571429</td>\n",
       "      <td>0</td>\n",
       "      <td>0</td>\n",
       "      <td>3</td>\n",
       "      <td>0.714286</td>\n",
       "      <td>1.0</td>\n",
       "      <td>0.0</td>\n",
       "      <td>0.777778</td>\n",
       "      <td>...</td>\n",
       "      <td>0</td>\n",
       "      <td>0</td>\n",
       "      <td>1</td>\n",
       "      <td>0</td>\n",
       "      <td>1</td>\n",
       "      <td>1</td>\n",
       "      <td>1</td>\n",
       "      <td>0</td>\n",
       "      <td>9</td>\n",
       "      <td>2017</td>\n",
       "    </tr>\n",
       "    <tr>\n",
       "      <td>5</td>\n",
       "      <td>0.0</td>\n",
       "      <td>0.0</td>\n",
       "      <td>0.142857</td>\n",
       "      <td>1</td>\n",
       "      <td>0</td>\n",
       "      <td>1</td>\n",
       "      <td>0.571429</td>\n",
       "      <td>0.0</td>\n",
       "      <td>0.0</td>\n",
       "      <td>0.777778</td>\n",
       "      <td>...</td>\n",
       "      <td>0</td>\n",
       "      <td>0</td>\n",
       "      <td>1</td>\n",
       "      <td>0</td>\n",
       "      <td>1</td>\n",
       "      <td>1</td>\n",
       "      <td>0</td>\n",
       "      <td>1</td>\n",
       "      <td>9</td>\n",
       "      <td>2017</td>\n",
       "    </tr>\n",
       "    <tr>\n",
       "      <td>6</td>\n",
       "      <td>0.0</td>\n",
       "      <td>0.0</td>\n",
       "      <td>0.142857</td>\n",
       "      <td>1</td>\n",
       "      <td>0</td>\n",
       "      <td>2</td>\n",
       "      <td>0.655462</td>\n",
       "      <td>0.0</td>\n",
       "      <td>0.0</td>\n",
       "      <td>0.777778</td>\n",
       "      <td>...</td>\n",
       "      <td>0</td>\n",
       "      <td>0</td>\n",
       "      <td>1</td>\n",
       "      <td>0</td>\n",
       "      <td>1</td>\n",
       "      <td>1</td>\n",
       "      <td>0</td>\n",
       "      <td>1</td>\n",
       "      <td>9</td>\n",
       "      <td>2017</td>\n",
       "    </tr>\n",
       "    <tr>\n",
       "      <td>7</td>\n",
       "      <td>0.5</td>\n",
       "      <td>1.0</td>\n",
       "      <td>1.000000</td>\n",
       "      <td>2</td>\n",
       "      <td>0</td>\n",
       "      <td>1</td>\n",
       "      <td>0.235294</td>\n",
       "      <td>0.0</td>\n",
       "      <td>0.0</td>\n",
       "      <td>0.777778</td>\n",
       "      <td>...</td>\n",
       "      <td>0</td>\n",
       "      <td>0</td>\n",
       "      <td>1</td>\n",
       "      <td>0</td>\n",
       "      <td>1</td>\n",
       "      <td>0</td>\n",
       "      <td>0</td>\n",
       "      <td>1</td>\n",
       "      <td>9</td>\n",
       "      <td>2017</td>\n",
       "    </tr>\n",
       "    <tr>\n",
       "      <td>8</td>\n",
       "      <td>0.5</td>\n",
       "      <td>1.0</td>\n",
       "      <td>1.000000</td>\n",
       "      <td>2</td>\n",
       "      <td>0</td>\n",
       "      <td>2</td>\n",
       "      <td>0.243697</td>\n",
       "      <td>0.0</td>\n",
       "      <td>0.0</td>\n",
       "      <td>0.777778</td>\n",
       "      <td>...</td>\n",
       "      <td>0</td>\n",
       "      <td>0</td>\n",
       "      <td>1</td>\n",
       "      <td>0</td>\n",
       "      <td>1</td>\n",
       "      <td>0</td>\n",
       "      <td>0</td>\n",
       "      <td>1</td>\n",
       "      <td>9</td>\n",
       "      <td>2017</td>\n",
       "    </tr>\n",
       "    <tr>\n",
       "      <td>9</td>\n",
       "      <td>0.5</td>\n",
       "      <td>1.0</td>\n",
       "      <td>1.000000</td>\n",
       "      <td>2</td>\n",
       "      <td>0</td>\n",
       "      <td>3</td>\n",
       "      <td>0.252101</td>\n",
       "      <td>0.5</td>\n",
       "      <td>0.0</td>\n",
       "      <td>0.777778</td>\n",
       "      <td>...</td>\n",
       "      <td>0</td>\n",
       "      <td>0</td>\n",
       "      <td>1</td>\n",
       "      <td>0</td>\n",
       "      <td>1</td>\n",
       "      <td>0</td>\n",
       "      <td>0</td>\n",
       "      <td>1</td>\n",
       "      <td>9</td>\n",
       "      <td>2017</td>\n",
       "    </tr>\n",
       "  </tbody>\n",
       "</table>\n",
       "<p>10 rows × 26 columns</p>\n",
       "</div>"
      ],
      "text/plain": [
       "   offer_reward  offer_difficulty  offer_duration  offer_id  customer_id  \\\n",
       "0           1.0               0.5        0.571429         0            0   \n",
       "1           1.0               0.5        0.571429         0            0   \n",
       "2           1.0               0.5        0.571429         0            0   \n",
       "3           1.0               0.5        0.571429         0            0   \n",
       "4           1.0               0.5        0.571429         0            0   \n",
       "5           0.0               0.0        0.142857         1            0   \n",
       "6           0.0               0.0        0.142857         1            0   \n",
       "7           0.5               1.0        1.000000         2            0   \n",
       "8           0.5               1.0        1.000000         2            0   \n",
       "9           0.5               1.0        1.000000         2            0   \n",
       "\n",
       "   event      time  money_gained  money_spent  customer_income  ...  \\\n",
       "0      1  0.000000           0.0          0.0         0.777778  ...   \n",
       "1      2  0.142857           0.0          0.0         0.777778  ...   \n",
       "2      1  0.705882           0.0          0.0         0.777778  ...   \n",
       "3      2  0.714286           0.0          0.0         0.777778  ...   \n",
       "4      3  0.714286           1.0          0.0         0.777778  ...   \n",
       "5      1  0.571429           0.0          0.0         0.777778  ...   \n",
       "6      2  0.655462           0.0          0.0         0.777778  ...   \n",
       "7      1  0.235294           0.0          0.0         0.777778  ...   \n",
       "8      2  0.243697           0.0          0.0         0.777778  ...   \n",
       "9      3  0.252101           0.5          0.0         0.777778  ...   \n",
       "\n",
       "   Age_group_20-45  Age_group_46-60  Age_group_61-80  Age_group_Under 20  \\\n",
       "0                0                0                1                   0   \n",
       "1                0                0                1                   0   \n",
       "2                0                0                1                   0   \n",
       "3                0                0                1                   0   \n",
       "4                0                0                1                   0   \n",
       "5                0                0                1                   0   \n",
       "6                0                0                1                   0   \n",
       "7                0                0                1                   0   \n",
       "8                0                0                1                   0   \n",
       "9                0                0                1                   0   \n",
       "\n",
       "   email  mobile  social  web  month_member  year_member  \n",
       "0      1       1       1    0             9         2017  \n",
       "1      1       1       1    0             9         2017  \n",
       "2      1       1       1    0             9         2017  \n",
       "3      1       1       1    0             9         2017  \n",
       "4      1       1       1    0             9         2017  \n",
       "5      1       1       0    1             9         2017  \n",
       "6      1       1       0    1             9         2017  \n",
       "7      1       0       0    1             9         2017  \n",
       "8      1       0       0    1             9         2017  \n",
       "9      1       0       0    1             9         2017  \n",
       "\n",
       "[10 rows x 26 columns]"
      ]
     },
     "execution_count": 37,
     "metadata": {},
     "output_type": "execute_result"
    }
   ],
   "source": [
    "cleaned_data.head(10)"
   ]
  },
  {
   "cell_type": "code",
   "execution_count": 40,
   "metadata": {},
   "outputs": [
    {
     "data": {
      "text/plain": [
       "Index(['offer_reward', 'offer_difficulty', 'offer_duration', 'offer_id',\n",
       "       'customer_id', 'event', 'time', 'money_gained', 'money_spent',\n",
       "       'customer_income', 'offer_type_bogo', 'offer_type_discount',\n",
       "       'offer_type_informational', 'gender_F', 'gender_M', 'gender_O',\n",
       "       'Age_group_20-45', 'Age_group_46-60', 'Age_group_61-80',\n",
       "       'Age_group_Under 20', 'email', 'mobile', 'social', 'web',\n",
       "       'month_member', 'year_member'],\n",
       "      dtype='object')"
      ]
     },
     "execution_count": 40,
     "metadata": {},
     "output_type": "execute_result"
    }
   ],
   "source": [
    "cleaned_data.columns"
   ]
  },
  {
   "cell_type": "code",
   "execution_count": 41,
   "metadata": {},
   "outputs": [
    {
     "data": {
      "text/plain": [
       "(157503, 26)"
      ]
     },
     "execution_count": 41,
     "metadata": {},
     "output_type": "execute_result"
    }
   ],
   "source": [
    "cleaned_data.shape"
   ]
  },
  {
   "cell_type": "code",
   "execution_count": 42,
   "metadata": {},
   "outputs": [
    {
     "data": {
      "text/plain": [
       "1    71863\n",
       "2    54396\n",
       "3    31244\n",
       "Name: event, dtype: int64"
      ]
     },
     "execution_count": 42,
     "metadata": {},
     "output_type": "execute_result"
    }
   ],
   "source": [
    "cleaned_data.event.value_counts()"
   ]
  },
  {
   "cell_type": "markdown",
   "metadata": {},
   "source": [
    "## 2. Split train and test data"
   ]
  },
  {
   "cell_type": "markdown",
   "metadata": {},
   "source": [
    "Final data is ready after tasks 1-5. We will now split the data (both features and their labels) into training and test sets, taking 60% of data for training and 40% for testing."
   ]
  },
  {
   "cell_type": "code",
   "execution_count": 43,
   "metadata": {},
   "outputs": [],
   "source": [
    "data = cleaned_data.drop('event', axis=1)\n",
    "label = cleaned_data['event']"
   ]
  },
  {
   "cell_type": "code",
   "execution_count": 44,
   "metadata": {},
   "outputs": [
    {
     "name": "stdout",
     "output_type": "stream",
     "text": [
      "Training set: 94501 rows\n",
      "Testing set: 63002 rows\n"
     ]
    }
   ],
   "source": [
    "X_train, X_test, y_train, y_test = train_test_split(data, label, test_size = 0.4, random_state = 0)\n",
    "\n",
    "print(\"Training set: {} rows\".format(X_train.shape[0]))\n",
    "print(\"Testing set: {} rows\".format(X_test.shape[0]))"
   ]
  },
  {
   "cell_type": "markdown",
   "metadata": {},
   "source": [
    "## 3. Training and Testing"
   ]
  },
  {
   "cell_type": "markdown",
   "metadata": {},
   "source": [
    "### Metrics"
   ]
  },
  {
   "cell_type": "markdown",
   "metadata": {},
   "source": [
    "We will consider the F1 score as the model metric to assess the quality of the approach and determine which model gives the best results. It can be interpreted as the weighted average of the precision and recall. The traditional or balanced F-score (F1 score) is the harmonic mean of precision and recall, where an F1 score reaches its best value at 100 and worst at 0."
   ]
  },
  {
   "cell_type": "code",
   "execution_count": 46,
   "metadata": {},
   "outputs": [],
   "source": [
    "def train_test_model(clf):\n",
    "    \"\"\"\n",
    "    Return train and test F1 score along with the model name\n",
    "       \n",
    "    Parameters\n",
    "    --------\n",
    "    clf: estimator instance\n",
    "    \n",
    "    Returns\n",
    "    --------\n",
    "    train_f1: train data F1 score\n",
    "    test_f1: test data F1 score\n",
    "    name: model name\n",
    "       \n",
    "    \"\"\"\n",
    "    train_prediction =  (clf.fit(X_train, y_train)).predict(X_train)\n",
    "    test_predictions = (clf.fit(X_train, y_train)).predict(X_test)\n",
    "    train_f1 =  accuracy_score(y_train, train_prediction)*100\n",
    "    test_f1= fbeta_score(y_test, test_predictions, beta = 0.5, average='micro' )*100\n",
    "    name = clf.__class__.__name__\n",
    "    \n",
    "    return train_f1, test_f1, name"
   ]
  },
  {
   "cell_type": "markdown",
   "metadata": {},
   "source": [
    "### KNeighborsClassifier (Benchmark)"
   ]
  },
  {
   "cell_type": "markdown",
   "metadata": {},
   "source": [
    "We use the K-Nearest Neighbors algorithm to build the benchmark, and evaluate the model result by the F1 score metric."
   ]
  },
  {
   "cell_type": "code",
   "execution_count": 47,
   "metadata": {},
   "outputs": [],
   "source": [
    "clf_A = KNeighborsClassifier(n_neighbors = 5)\n",
    "a_train_f1, a_test_f1, a_model = train_test_model(clf_A)"
   ]
  },
  {
   "cell_type": "code",
   "execution_count": 48,
   "metadata": {},
   "outputs": [],
   "source": [
    "knn = {'Benchmark Model': [ a_model], 'train F1 score':[a_train_f1], 'test F1 score': [a_test_f1]}\n",
    "benchmark = pd.DataFrame(knn)"
   ]
  },
  {
   "cell_type": "code",
   "execution_count": 49,
   "metadata": {},
   "outputs": [
    {
     "data": {
      "text/html": [
       "<div>\n",
       "<style scoped>\n",
       "    .dataframe tbody tr th:only-of-type {\n",
       "        vertical-align: middle;\n",
       "    }\n",
       "\n",
       "    .dataframe tbody tr th {\n",
       "        vertical-align: top;\n",
       "    }\n",
       "\n",
       "    .dataframe thead th {\n",
       "        text-align: right;\n",
       "    }\n",
       "</style>\n",
       "<table border=\"1\" class=\"dataframe\">\n",
       "  <thead>\n",
       "    <tr style=\"text-align: right;\">\n",
       "      <th></th>\n",
       "      <th>Benchmark Model</th>\n",
       "      <th>train F1 score</th>\n",
       "      <th>test F1 score</th>\n",
       "    </tr>\n",
       "  </thead>\n",
       "  <tbody>\n",
       "    <tr>\n",
       "      <td>0</td>\n",
       "      <td>KNeighborsClassifier</td>\n",
       "      <td>54.346515</td>\n",
       "      <td>32.891019</td>\n",
       "    </tr>\n",
       "  </tbody>\n",
       "</table>\n",
       "</div>"
      ],
      "text/plain": [
       "        Benchmark Model  train F1 score  test F1 score\n",
       "0  KNeighborsClassifier       54.346515      32.891019"
      ]
     },
     "execution_count": 49,
     "metadata": {},
     "output_type": "execute_result"
    }
   ],
   "source": [
    "benchmark"
   ]
  },
  {
   "cell_type": "markdown",
   "metadata": {},
   "source": [
    "### RandomForestClassifier"
   ]
  },
  {
   "cell_type": "code",
   "execution_count": 50,
   "metadata": {},
   "outputs": [],
   "source": [
    "clf_B = RandomForestClassifier(random_state = 10)\n",
    "b_train_f1, b_test_f1, b_model = train_test(clf_B)"
   ]
  },
  {
   "cell_type": "code",
   "execution_count": 52,
   "metadata": {
    "scrolled": false
   },
   "outputs": [
    {
     "data": {
      "text/html": [
       "<div>\n",
       "<style scoped>\n",
       "    .dataframe tbody tr th:only-of-type {\n",
       "        vertical-align: middle;\n",
       "    }\n",
       "\n",
       "    .dataframe tbody tr th {\n",
       "        vertical-align: top;\n",
       "    }\n",
       "\n",
       "    .dataframe thead th {\n",
       "        text-align: right;\n",
       "    }\n",
       "</style>\n",
       "<table border=\"1\" class=\"dataframe\">\n",
       "  <thead>\n",
       "    <tr style=\"text-align: right;\">\n",
       "      <th></th>\n",
       "      <th>Benchmark Model</th>\n",
       "      <th>train F1 score</th>\n",
       "      <th>test F1 score</th>\n",
       "    </tr>\n",
       "  </thead>\n",
       "  <tbody>\n",
       "    <tr>\n",
       "      <td>0</td>\n",
       "      <td>KNeighborsClassifier</td>\n",
       "      <td>94.459318</td>\n",
       "      <td>70.702517</td>\n",
       "    </tr>\n",
       "  </tbody>\n",
       "</table>\n",
       "</div>"
      ],
      "text/plain": [
       "        Benchmark Model  train F1 score  test F1 score\n",
       "0  KNeighborsClassifier       94.459318      70.702517"
      ]
     },
     "execution_count": 52,
     "metadata": {},
     "output_type": "execute_result"
    }
   ],
   "source": [
    "knn = {'Benchmark Model': [ a_model], 'train F1 score':[b_train_f1], 'test F1 score': [b_test_f1]}\n",
    "benchmark = pd.DataFrame(knn)\n",
    "benchmark"
   ]
  },
  {
   "cell_type": "markdown",
   "metadata": {},
   "source": [
    "### DecisionTreeClassifier"
   ]
  },
  {
   "cell_type": "code",
   "execution_count": 53,
   "metadata": {},
   "outputs": [
    {
     "data": {
      "text/html": [
       "<div>\n",
       "<style scoped>\n",
       "    .dataframe tbody tr th:only-of-type {\n",
       "        vertical-align: middle;\n",
       "    }\n",
       "\n",
       "    .dataframe tbody tr th {\n",
       "        vertical-align: top;\n",
       "    }\n",
       "\n",
       "    .dataframe thead th {\n",
       "        text-align: right;\n",
       "    }\n",
       "</style>\n",
       "<table border=\"1\" class=\"dataframe\">\n",
       "  <thead>\n",
       "    <tr style=\"text-align: right;\">\n",
       "      <th></th>\n",
       "      <th>Benchmark Model</th>\n",
       "      <th>train F1 score</th>\n",
       "      <th>test F1 score</th>\n",
       "    </tr>\n",
       "  </thead>\n",
       "  <tbody>\n",
       "    <tr>\n",
       "      <td>0</td>\n",
       "      <td>DecisionTreeClassifier</td>\n",
       "      <td>95.455075</td>\n",
       "      <td>85.079839</td>\n",
       "    </tr>\n",
       "  </tbody>\n",
       "</table>\n",
       "</div>"
      ],
      "text/plain": [
       "          Benchmark Model  train F1 score  test F1 score\n",
       "0  DecisionTreeClassifier       95.455075      85.079839"
      ]
     },
     "execution_count": 53,
     "metadata": {},
     "output_type": "execute_result"
    }
   ],
   "source": [
    "clf_C = DecisionTreeClassifier(random_state = 10)\n",
    "c_train_f1, c_test_f1, c_model = train_test(clf_C)\n",
    "knn = {'Benchmark Model': [ c_model], 'train F1 score':[c_train_f1], 'test F1 score': [c_test_f1]}\n",
    "benchmark = pd.DataFrame(knn)\n",
    "benchmark"
   ]
  },
  {
   "cell_type": "markdown",
   "metadata": {},
   "source": [
    "# v) Conclusions"
   ]
  },
  {
   "cell_type": "markdown",
   "metadata": {},
   "source": [
    "## 1. EDA"
   ]
  },
  {
   "cell_type": "code",
   "execution_count": 57,
   "metadata": {},
   "outputs": [
    {
     "data": {
      "text/plain": [
       "<seaborn.axisgrid.FacetGrid at 0x1ec83f27208>"
      ]
     },
     "execution_count": 57,
     "metadata": {},
     "output_type": "execute_result"
    },
    {
     "data": {
      "image/png": "[encoded data removed]",
      "text/plain": [
       "<Figure size 720x1080 with 6 Axes>"
      ]
     },
     "metadata": {
      "needs_background": "light"
     },
     "output_type": "display_data"
    }
   ],
   "source": [
    "d = {'color': ['C0', \"#e74c3c\"]}\n",
    "plot_genders = merged_df[merged_df['gender'] != 'O']\n",
    "g = sns.FacetGrid(plot_genders, row='event', col='gender', hue_kws=d, hue='gender', size=5)\n",
    "g.map(plt.hist, 'offer_type')"
   ]
  },
  {
   "cell_type": "markdown",
   "metadata": {},
   "source": [
    "The males represent 62.7% of the data and use the Starbucks app more than the females. Specifically, both males & females in the age group 46-60 use app the most. Discount offers are more preferred by the customers. Also, there are less number of customers who actually complete the offer as compared to the ones who just view & ignore it. We can look more to the figures & information in section- iii) Exploratory Data Analysis (points 1-10) to best determine which kind of offers to send to the customers."
   ]
  },
  {
   "cell_type": "markdown",
   "metadata": {},
   "source": [
    "## 2. Model comparisons & evaluation against the model metric"
   ]
  },
  {
   "cell_type": "code",
   "execution_count": 58,
   "metadata": {},
   "outputs": [],
   "source": [
    "models = {'Model': ['KNeighborsClassifier (Benchmark)', b_model, c_model], \n",
    "          'train F1 score ':[a_train_f1, b_train_f1, c_train_f1], \n",
    "          'test F1 score': [a_test_f1 , b_test_f1, c_test_f1] }\n",
    "          \n",
    "comp = pd.DataFrame(models)"
   ]
  },
  {
   "cell_type": "code",
   "execution_count": 59,
   "metadata": {},
   "outputs": [
    {
     "data": {
      "text/html": [
       "<div>\n",
       "<style scoped>\n",
       "    .dataframe tbody tr th:only-of-type {\n",
       "        vertical-align: middle;\n",
       "    }\n",
       "\n",
       "    .dataframe tbody tr th {\n",
       "        vertical-align: top;\n",
       "    }\n",
       "\n",
       "    .dataframe thead th {\n",
       "        text-align: right;\n",
       "    }\n",
       "</style>\n",
       "<table border=\"1\" class=\"dataframe\">\n",
       "  <thead>\n",
       "    <tr style=\"text-align: right;\">\n",
       "      <th></th>\n",
       "      <th>Model</th>\n",
       "      <th>train F1 score</th>\n",
       "      <th>test F1 score</th>\n",
       "    </tr>\n",
       "  </thead>\n",
       "  <tbody>\n",
       "    <tr>\n",
       "      <td>0</td>\n",
       "      <td>KNeighborsClassifier (Benchmark)</td>\n",
       "      <td>54.346515</td>\n",
       "      <td>32.891019</td>\n",
       "    </tr>\n",
       "    <tr>\n",
       "      <td>1</td>\n",
       "      <td>RandomForestClassifier</td>\n",
       "      <td>94.459318</td>\n",
       "      <td>70.702517</td>\n",
       "    </tr>\n",
       "    <tr>\n",
       "      <td>2</td>\n",
       "      <td>DecisionTreeClassifier</td>\n",
       "      <td>95.455075</td>\n",
       "      <td>85.079839</td>\n",
       "    </tr>\n",
       "  </tbody>\n",
       "</table>\n",
       "</div>"
      ],
      "text/plain": [
       "                              Model  train F1 score   test F1 score\n",
       "0  KNeighborsClassifier (Benchmark)        54.346515      32.891019\n",
       "1            RandomForestClassifier        94.459318      70.702517\n",
       "2            DecisionTreeClassifier        95.455075      85.079839"
      ]
     },
     "execution_count": 59,
     "metadata": {},
     "output_type": "execute_result"
    }
   ],
   "source": [
    "comp"
   ]
  },
  {
   "cell_type": "markdown",
   "metadata": {},
   "source": [
    "The validation set (test data set) is used to evaluate the model. Both the models are better than the benchmark. The best score is created by the DecisionTreeClassifier model, as its validate F1 score is 85.10, which is much higher than the benchmark. The RandomForestClassifier model scores good as well compared to the benchmark, with a test F1 score of 69.30. Our problem to solve is not that sensitive which requires very high F1 score, so the scores are good & sufficient and can be used for the classification purpose to predict whether a customer will respond to an offer."
   ]
  }
 ],
 "metadata": {
  "kernelspec": {
   "display_name": "Python 3",
   "language": "python",
   "name": "python3"
  },
  "language_info": {
   "codemirror_mode": {
    "name": "ipython",
    "version": 3
   },
   "file_extension": ".py",
   "mimetype": "text/x-python",
   "name": "python",
   "nbconvert_exporter": "python",
   "pygments_lexer": "ipython3",
   "version": "3.7.4"
  }
 },
 "nbformat": 4,
 "nbformat_minor": 2
}
